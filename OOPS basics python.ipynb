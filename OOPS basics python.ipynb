{
 "cells": [
  {
   "cell_type": "markdown",
   "metadata": {},
   "source": [
    "# Before understanding OOPS python don't use JAVA concept and"
   ]
  },
  {
   "cell_type": "markdown",
   "metadata": {},
   "source": [
    "# we should know what is class,object,refrence variables ?"
   ]
  },
  {
   "cell_type": "code",
   "execution_count": 9,
   "metadata": {
    "scrolled": false
   },
   "outputs": [
    {
     "name": "stdout",
     "output_type": "stream",
     "text": [
      "hello my name is : sunny\n",
      "hello my roll no is: 100\n",
      "its displaying the name with roll no: sunny,100\n",
      "\n",
      "\n",
      "hello my name is : bunny\n",
      "hello my roll no is: 200\n",
      "its displaying the name with roll no: bunny,200\n"
     ]
    }
   ],
   "source": [
    "class Student:\n",
    "    ''' this class developed for demo'''  # this is called doc string description about class.\n",
    "    def __init__(self,rollno1,name1):  # we will see the constructor story later.\n",
    "        self.name=name1\n",
    "        self.rollno=rollno1\n",
    "    def talk(self):\n",
    "        print('hello my name is :',self.name)\n",
    "        print('hello my roll no is:',self.rollno)\n",
    "    def display(self):\n",
    "        print('its displaying the name with roll no:',self.name+','+str(self.rollno))\n",
    "        \n",
    "s=Student(100,'sunny')  # 's' is refrence variable and student is object of class student\n",
    "s.talk()   # this is the way to call method of class by using refrence variable(s).\n",
    "s.display()\n",
    "# we can create many obects of same class\n",
    "print('\\n')\n",
    "s1=Student(200,'bunny') # obejct of class hvaing same number of argument to the constructor.\n",
    "s1.talk()\n",
    "s1.display()"
   ]
  },
  {
   "cell_type": "code",
   "execution_count": 10,
   "metadata": {},
   "outputs": [
    {
     "name": "stdout",
     "output_type": "stream",
     "text": [
      " this class developed for demo\n",
      "************************************************** \n",
      "\n",
      "Help on class Student in module __main__:\n",
      "\n",
      "class Student(builtins.object)\n",
      " |  Student(rollno1, name1)\n",
      " |  \n",
      " |  this class developed for demo\n",
      " |  \n",
      " |  Methods defined here:\n",
      " |  \n",
      " |  __init__(self, rollno1, name1)\n",
      " |      Initialize self.  See help(type(self)) for accurate signature.\n",
      " |  \n",
      " |  display(self)\n",
      " |  \n",
      " |  talk(self)\n",
      " |  \n",
      " |  ----------------------------------------------------------------------\n",
      " |  Data descriptors defined here:\n",
      " |  \n",
      " |  __dict__\n",
      " |      dictionary for instance variables (if defined)\n",
      " |  \n",
      " |  __weakref__\n",
      " |      list of weak references to the object (if defined)\n",
      "\n"
     ]
    }
   ],
   "source": [
    "# if we want to know the documentation of class for that \n",
    "print(Student.__doc__)        #   ---> to know doc string/description of class.\n",
    "# we can also write help(classname)\n",
    "print('*'*50,'\\n')\n",
    "help(Student)   # help(classname) ---> to know doc string/description of class."
   ]
  },
  {
   "cell_type": "markdown",
   "metadata": {},
   "source": [
    "# object of class always expecting the same number of arguments which you declare in constructor."
   ]
  },
  {
   "cell_type": "code",
   "execution_count": 14,
   "metadata": {},
   "outputs": [
    {
     "name": "stdout",
     "output_type": "stream",
     "text": [
      "*************************\n",
      "employee name: ved\n",
      "employee number: 100\n",
      "employee salary: 10000\n",
      "employee address: banglore\n",
      "*************************\n",
      "*************************\n",
      "employee name: dimple\n",
      "employee number: 200\n",
      "employee salary: 11000\n",
      "employee address: delhi\n",
      "*************************\n"
     ]
    }
   ],
   "source": [
    "class Employee:\n",
    "    ''' doc string(description)'''\n",
    "    def __init__(self,eno,ename,esal,eaddr):\n",
    "        self.eno=eno\n",
    "        self.ename=ename\n",
    "        self.esal=esal\n",
    "        self.eaddr=eaddr\n",
    "        \n",
    "    def info(self):                # instance method.(discuss in deep next)\n",
    "        print('*'*25)\n",
    "        print('employee name:',self.ename)\n",
    "        print('employee number:',self.eno)\n",
    "        print('employee salary:',self.esal)\n",
    "        print('employee address:',self.eaddr)\n",
    "        print('*'*25)\n",
    "e1=Employee(100,'ved',10000,'banglore')\n",
    "e2=Employee(200,'dimple',11000,'delhi')\n",
    "e1.info()\n",
    "e2.info()"
   ]
  },
  {
   "cell_type": "code",
   "execution_count": 15,
   "metadata": {},
   "outputs": [
    {
     "name": "stdout",
     "output_type": "stream",
     "text": [
      " doc string(description)\n"
     ]
    }
   ],
   "source": [
    "# if we want to know the documentation of class for that \n",
    "print(Employee.__doc__)"
   ]
  },
  {
   "cell_type": "markdown",
   "metadata": {},
   "source": [
    "# there are two important terminology \n",
    "# (1) self variable ---> it is always pointing to current object.\n",
    "      ### within python class,to refer current object we should use self.\n",
    "# see example"
   ]
  },
  {
   "cell_type": "code",
   "execution_count": 16,
   "metadata": {},
   "outputs": [
    {
     "name": "stdout",
     "output_type": "stream",
     "text": [
      "constructor: 2378072509912\n",
      "2378072509912\n",
      "constructor: 2378073361544\n",
      "2378073361544\n"
     ]
    }
   ],
   "source": [
    "class student:\n",
    "    ''' this class developed by ved for self undestanding'''\n",
    "    def __init__(self):\n",
    "        print('constructor:',id(self))\n",
    "s=student()\n",
    "print(id(s))\n",
    "# __init__ ---> this is constructor and it execute as we create object of class we will learn in details.\n",
    "s1=student()\n",
    "print(id(s1))"
   ]
  },
  {
   "cell_type": "markdown",
   "metadata": {},
   "source": [
    "# here in above example we can see that adress of self and adress of s of both variables are same means they are pointing\n",
    "# the same object 'student'"
   ]
  },
  {
   "cell_type": "markdown",
   "metadata": {},
   "source": [
    "# whenever we create any obejct of class then self will refer the variable of that current object.\n",
    "# e.g\n",
    "# e1=employee(100,'ved',10000,'banglore')\n",
    "# now in this example we create employee object of class employee then self will pointing towards the object of refrence e1."
   ]
  },
  {
   "cell_type": "markdown",
   "metadata": {},
   "source": [
    "# the first argument of the constructor and instance method should be self."
   ]
  },
  {
   "cell_type": "markdown",
   "metadata": {},
   "source": [
    "# one more thing while declaring info() method there is self argument but while calling info() we are not giving\n",
    "# any value because python virtual mission is responsible to provide user should not allow to write that."
   ]
  },
  {
   "cell_type": "markdown",
   "metadata": {},
   "source": [
    "# we  have to use self to acsess any variable or method inside class otherwise we will get error."
   ]
  },
  {
   "cell_type": "code",
   "execution_count": 17,
   "metadata": {
    "scrolled": false
   },
   "outputs": [
    {
     "name": "stdout",
     "output_type": "stream",
     "text": [
      "*************************\n",
      "employee name: ved\n",
      "employee number: 100\n",
      "employee salary: 10000\n",
      "employee address: banglore\n",
      "*************************\n",
      "*************************\n",
      "employee name: dimple\n",
      "employee number: 200\n",
      "employee salary: 11000\n",
      "employee address: delhi\n",
      "*************************\n"
     ]
    }
   ],
   "source": [
    "# tell me the difference betwwen this employee class and previous employee class\n",
    "# look at the arguments of costructor.\n",
    "class employee:\n",
    "    ''' doc string(description)'''\n",
    "    def __init__(self,eno1,ename1,esal1,eaddr1):\n",
    "        self.eno=eno1\n",
    "        self.ename=ename1\n",
    "        self.esal=esal1\n",
    "        self.eaddr=eaddr1\n",
    "        \n",
    "    def info(self):                # instance method.(discuss in deep next)\n",
    "        print('*'*25)\n",
    "        print('employee name:',self.ename)\n",
    "        print('employee number:',self.eno)\n",
    "        print('employee salary:',self.esal)\n",
    "        print('employee address:',self.eaddr)\n",
    "        print('*'*25)\n",
    "e1=employee(100,'ved',10000,'banglore')\n",
    "e2=employee(200,'dimple',11000,'delhi')\n",
    "e1.info()\n",
    "e2.info()"
   ]
  },
  {
   "cell_type": "markdown",
   "metadata": {},
   "source": [
    "# self:"
   ]
  },
  {
   "cell_type": "markdown",
   "metadata": {},
   "source": [
    "### self is a implicit variable which is always provided by PVM while object creation,user need not to provide.\n",
    "### self is a refrence variable which is always pointing to current objects.\n",
    "### within python class to refer current object we should use self variables.\n",
    "### on place of self we can use any varible but self is useto by python developer.\n",
    "### for every constructor and instance method first argument should be self\n",
    "### by using self we can declare instance variables\n",
    "### by using self we can declare acess instance variable values.\n",
    "### its mandatory to declare a instance variable(always with self) inside constructor."
   ]
  },
  {
   "cell_type": "code",
   "execution_count": 18,
   "metadata": {
    "scrolled": true
   },
   "outputs": [
    {
     "name": "stdout",
     "output_type": "stream",
     "text": [
      "*************************\n",
      "employee name: ved\n",
      "employee number: 100\n",
      "employee salary: 10000\n",
      "employee address: banglore\n",
      "*************************\n",
      "*************************\n",
      "employee name: dimple\n",
      "employee number: 200\n",
      "employee salary: 11000\n",
      "employee address: delhi\n",
      "*************************\n"
     ]
    }
   ],
   "source": [
    "class employee:\n",
    "    ''' doc string(description)'''\n",
    "    def __init__(self,eno1,ename1,esal1,eaddr1):\n",
    "        self.eno=eno1\n",
    "        self.ename=ename1\n",
    "        self.esal=esal1\n",
    "        self.eaddr=eaddr1\n",
    "        \n",
    "    def info(self):                # instance method.(discuss in deep next)\n",
    "        print('*'*25)\n",
    "        eno=888                  # suppose we declare local variable\n",
    "        print('employee name:',self.ename)\n",
    "        print('employee number:',self.eno) # but if we use self.eno we get value decalre while object creation,not local value.\n",
    "        print('employee salary:',self.esal)\n",
    "        print('employee address:',self.eaddr)\n",
    "        print('*'*25)\n",
    "e1=employee(100,'ved',10000,'banglore')\n",
    "e2=employee(200,'dimple',11000,'delhi')\n",
    "e1.info()  # here self is refrence variable which always pointing towards e1 object\n",
    "e2.info()  # here self is refrence variable which always pointing towards e2 object.\n",
    "#output will be value of local variable if we are not using self."
   ]
  },
  {
   "cell_type": "markdown",
   "metadata": {},
   "source": [
    "# we can use any word instead of self any word but that word should not python reserved word."
   ]
  },
  {
   "cell_type": "code",
   "execution_count": 19,
   "metadata": {},
   "outputs": [
    {
     "name": "stdout",
     "output_type": "stream",
     "text": [
      "*************************\n",
      "employee name: ved\n",
      "employee number: 100\n",
      "employee salary: 10000\n",
      "employee address: banglore\n",
      "*************************\n",
      "*************************\n",
      "employee name: dimple\n",
      "employee number: 200\n",
      "employee salary: 11000\n",
      "employee address: delhi\n",
      "*************************\n"
     ]
    }
   ],
   "source": [
    "class employee:\n",
    "    ''' doc string(description)'''\n",
    "    def __init__(s,eno1,ename1,esal1,eaddr1):\n",
    "        s.eno=eno1\n",
    "        s.ename=ename1\n",
    "        s.esal=esal1\n",
    "        s.eaddr=eaddr1\n",
    "        \n",
    "    def info(self):                # instance method.(discuss in deep next)\n",
    "        print('*'*25)\n",
    "        print('employee name:',self.ename)\n",
    "        print('employee number:',self.eno)\n",
    "        print('employee salary:',self.esal)\n",
    "        print('employee address:',self.eaddr)\n",
    "        print('*'*25)\n",
    "e1=employee(100,'ved',10000,'banglore')\n",
    "e2=employee(200,'dimple',11000,'delhi')\n",
    "e1.info()\n",
    "e2.info()"
   ]
  },
  {
   "cell_type": "code",
   "execution_count": 20,
   "metadata": {},
   "outputs": [
    {
     "name": "stdout",
     "output_type": "stream",
     "text": [
      "*************************\n",
      "employee name: ved\n",
      "employee number: 100\n",
      "employee salary: 10000\n",
      "employee address: banglore\n",
      "*************************\n",
      "*************************\n",
      "employee name: dimple\n",
      "employee number: 200\n",
      "employee salary: 11000\n",
      "employee address: delhi\n",
      "*************************\n"
     ]
    }
   ],
   "source": [
    "class employee:\n",
    "    ''' doc string(description)'''\n",
    "    def __init__(s,eno1,ename1,esal1,eaddr1):\n",
    "        s.eno=eno1\n",
    "        s.ename=ename1\n",
    "        s.esal=esal1\n",
    "        s.eaddr=eaddr1\n",
    "        \n",
    "    def info(x):                # instance method.(discuss in deep next)\n",
    "        print('*'*25)\n",
    "        print('employee name:',x.ename)\n",
    "        print('employee number:',x.eno)\n",
    "        print('employee salary:',x.esal)\n",
    "        print('employee address:',x.eaddr)\n",
    "        print('*'*25)\n",
    "e1=employee(100,'ved',10000,'banglore')\n",
    "e2=employee(200,'dimple',11000,'delhi')\n",
    "e1.info()\n",
    "e2.info()"
   ]
  },
  {
   "cell_type": "markdown",
   "metadata": {},
   "source": [
    "# constructor :"
   ]
  },
  {
   "cell_type": "markdown",
   "metadata": {},
   "source": [
    "### name of constructor is always fixed for any class   underscoreunderscore init underscoreunderscore()\n",
    "### whenever we are creating object constructor will excute automatically and initialize instance variables.\n",
    "### we are not require to call constructor explicitly.\n",
    "### for every obejct it excute only once\n",
    "### we need atleast on argument for constructor---self\n",
    "### for every class constructor is not manadatory\n",
    "### if you are not providing any constructor python will provide default constructor.\n",
    "### we can create more then one constructor inside a class\n",
    "### but python always consider last constructor(it over-ride previous constructor)"
   ]
  },
  {
   "cell_type": "markdown",
   "metadata": {},
   "source": [
    "# what are instance variables?"
   ]
  },
  {
   "cell_type": "markdown",
   "metadata": {},
   "source": [
    "### value declare with self is called instance variable\n",
    "### for example self.eno here eno is instance variable."
   ]
  },
  {
   "cell_type": "markdown",
   "metadata": {},
   "source": [
    "# ******************************************************"
   ]
  },
  {
   "cell_type": "markdown",
   "metadata": {},
   "source": [
    "### in this example we can see as we create object constructor excuted we didnt called."
   ]
  },
  {
   "cell_type": "code",
   "execution_count": 21,
   "metadata": {},
   "outputs": [
    {
     "name": "stdout",
     "output_type": "stream",
     "text": [
      "constructor excution...\n",
      "constructor excution...\n"
     ]
    }
   ],
   "source": [
    "class test:\n",
    "    def __init__(self):\n",
    "        print('constructor excution...')\n",
    "t=test()\n",
    "t1=test()\n",
    "# see output of constructor withou self. 1 was given means python given one argument bydefault so we have to give self"
   ]
  },
  {
   "cell_type": "code",
   "execution_count": 64,
   "metadata": {
    "scrolled": false
   },
   "outputs": [
    {
     "name": "stdout",
     "output_type": "stream",
     "text": [
      "enter nameved\n",
      "ved\n",
      "enter namexyz\n",
      "xyz\n",
      "enter nameabc\n",
      "abc\n"
     ]
    }
   ],
   "source": [
    "class test:\n",
    "    '''demo'''\n",
    "    \n",
    "    def wish(self):\n",
    "        s=input('enter name')\n",
    "        print(s)\n",
    "t=test()\n",
    "\n",
    "t.wish()\n",
    "t.wish()\n",
    "t.wish()"
   ]
  },
  {
   "cell_type": "markdown",
   "metadata": {},
   "source": [
    "# constructor overloading:- discuss in details but overview now"
   ]
  },
  {
   "cell_type": "markdown",
   "metadata": {},
   "source": [
    "### here i created two constructor with no argument and one argument.\n",
    "### then i am calling by two objects t1 and t2 with no argument and one argument respectively.\n",
    "### this is know as constructor overloading having same name but diff work isit? (according to java concept)"
   ]
  },
  {
   "cell_type": "code",
   "execution_count": 23,
   "metadata": {
    "scrolled": true
   },
   "outputs": [
    {
     "name": "stdout",
     "output_type": "stream",
     "text": [
      "one arguments\n"
     ]
    }
   ],
   "source": [
    "class test:\n",
    "    def __init__(self):\n",
    "        print('no argument')\n",
    "    def __init__(self,x):\n",
    "        print('one arguments')\n",
    "#t1=test()\n",
    "t2=test(10)"
   ]
  },
  {
   "cell_type": "markdown",
   "metadata": {},
   "source": [
    "### but in python there is no overloading concept, In python over-riding concept.\n",
    "### as we declare two constructor the previous construtor will override by latest one\n",
    "### so we should always create the object of this class with one argument(in our previous example)"
   ]
  },
  {
   "cell_type": "code",
   "execution_count": 68,
   "metadata": {},
   "outputs": [
    {
     "name": "stdout",
     "output_type": "stream",
     "text": [
      "one arguments\n",
      "one arguments\n"
     ]
    }
   ],
   "source": [
    "class test:\n",
    "    def __init__(self):\n",
    "        print('no argument')\n",
    "    def __init__(self,x):\n",
    "        print('one arguments')\n",
    "t1=test(10)\n",
    "t2=test(20)"
   ]
  },
  {
   "cell_type": "markdown",
   "metadata": {},
   "source": [
    "### we saw it ran perfectly coz last constructor overrided the previous constructor."
   ]
  },
  {
   "cell_type": "markdown",
   "metadata": {},
   "source": [
    "# constructor is also a method so what is the diff betwwen constructor and method?:"
   ]
  },
  {
   "cell_type": "code",
   "execution_count": 24,
   "metadata": {},
   "outputs": [
    {
     "name": "stdout",
     "output_type": "stream",
     "text": [
      "constructor excution...\n",
      "method excution...\n",
      "hello myself:  ved\n",
      "my rollno is:  100\n",
      "method excution...\n",
      "hello myself:  ved\n",
      "my rollno is:  100\n",
      "method excution...\n",
      "hello myself:  ved\n",
      "my rollno is:  100\n"
     ]
    }
   ],
   "source": [
    "class Student:\n",
    "    def __init__(self,name1,rollno1):\n",
    "        print('constructor excution...')\n",
    "        self.name=name1\n",
    "        self.rollno=rollno1\n",
    "        \n",
    "    def display(self):\n",
    "        print('method excution...')\n",
    "        print('hello myself: ',self.name)\n",
    "        print('my rollno is: ',self.rollno)\n",
    "s=Student('ved',100)\n",
    "s.display()\n",
    "s.display()\n",
    "s.display()"
   ]
  },
  {
   "cell_type": "markdown",
   "metadata": {},
   "source": [
    "### here in above example you can see we can call display method any number of time but\n",
    "### constructor can be called once for a particular object\n",
    "### constructor made to initilaise or declare the instance variables\n",
    "### method are use to write some business logics"
   ]
  },
  {
   "cell_type": "markdown",
   "metadata": {},
   "source": [
    "# INSIDE PYTHON CLASS  ---:\n",
    "## Three types of variables are allowed:\n",
    "### 1) instance variables / object level variables\n",
    "### 2)static variables / class level variables\n",
    "### 3) local variables / method variables"
   ]
  },
  {
   "cell_type": "markdown",
   "metadata": {},
   "source": [
    "## Three types of methods are allowed:\n",
    "### 1) instance methods / object related methods\n",
    "### 2) class methods \n",
    "### 3) static methods"
   ]
  },
  {
   "cell_type": "markdown",
   "metadata": {},
   "source": [
    "## example of instance variables"
   ]
  },
  {
   "cell_type": "code",
   "execution_count": 70,
   "metadata": {},
   "outputs": [
    {
     "name": "stdout",
     "output_type": "stream",
     "text": [
      "constructor excution...\n",
      "constructor excution...\n",
      "constructor excution...\n",
      "method excution...\n",
      "hello myself:  ved\n",
      "my rollno is:  100\n",
      "method excution...\n",
      "hello myself:  dev\n",
      "my rollno is:  101\n",
      "method excution...\n",
      "hello myself:  raju\n",
      "my rollno is:  103\n"
     ]
    }
   ],
   "source": [
    "class student:\n",
    "    def __init__(self,name1,rollno1):\n",
    "        print('constructor excution...')\n",
    "        self.name=name1          # varaible which are declare with self called instance like name but name1 is not instance.\n",
    "        self.rollno=rollno1      \n",
    "        \n",
    "    def display(self):\n",
    "        print('method excution...')\n",
    "        print('hello myself: ',self.name)\n",
    "        print('my rollno is: ',self.rollno)\n",
    "s1=student('ved',100)    # 'ved' is instance variable\n",
    "s2=student('dev',101)   # 'dev' is instance variables\n",
    "s3=student('raju',103)  # 'raju' is instance variables\n",
    "s1.display()\n",
    "s2.display()\n",
    "s3.display()"
   ]
  },
  {
   "cell_type": "markdown",
   "metadata": {},
   "source": [
    "## here in above example we can see that the variables values are different for object to object \n",
    "## like ved ,dev and raju these are instance variables coz its changing according to class objects.\n",
    "## instance variable should be declare inside constructor with self.\n",
    "# ***********"
   ]
  },
  {
   "cell_type": "markdown",
   "metadata": {},
   "source": [
    "### now suppose for this above example student name and rollno is vary for every student but there school name \n",
    "### will be same for all student that known as static variable.\n",
    "### for all object same copy will be share.\n",
    "### lets see example."
   ]
  },
  {
   "cell_type": "code",
   "execution_count": 25,
   "metadata": {},
   "outputs": [
    {
     "name": "stdout",
     "output_type": "stream",
     "text": [
      "constructor excution...\n",
      "constructor excution...\n",
      "constructor excution...\n",
      "people_click\n",
      "people_click\n",
      "people_click\n",
      "dev\n",
      "people_click\n"
     ]
    }
   ],
   "source": [
    "class student:\n",
    "    clg_name='people_click'          # static variable\n",
    "    def __init__(self,name1,rollno1):\n",
    "        print('constructor excution...')\n",
    "        self.name=name1          # varaible which are declare with self called instance like name but name1 is not instance.\n",
    "        self.rollno=rollno1      \n",
    "        \n",
    "    def display(self):\n",
    "        print('method excution...')\n",
    "        print('hello myself: ',self.name)\n",
    "        print('my rollno is: ',self.rollno)\n",
    "s1=student('ved',100)    # 'ved' and 100 are instance variable\n",
    "s2=student('dev',101)   # 'dev' and 101 are instance variables\n",
    "s3=student('raju',103)  # 'raju' and 103 are instance variables\n",
    "print(s1.clg_name)# people_click,\n",
    "print(s2.clg_name)# people_click\n",
    "print(s3.clg_name)# people_click\n",
    "# you can see only one copy for every object or student college name is only one.static variable only one will \n",
    "# be created\n",
    "print(s2.name)# dev,\n",
    "print(student.clg_name)#people_click,"
   ]
  },
  {
   "cell_type": "markdown",
   "metadata": {},
   "source": [
    "## the variable which are declare inside a method or constructor without self called local variable.\n",
    "## these variable declare without self.\n",
    "## these are only accessable inside that particular method or constructor.\n",
    "## these are also know as method variables"
   ]
  },
  {
   "cell_type": "markdown",
   "metadata": {},
   "source": [
    "# example of method or local variables"
   ]
  },
  {
   "cell_type": "code",
   "execution_count": 27,
   "metadata": {
    "scrolled": true
   },
   "outputs": [
    {
     "name": "stdout",
     "output_type": "stream",
     "text": [
      "constructor excution...\n",
      "constructor excution...\n",
      "constructor excution...\n",
      "people_click\n",
      "method excution...\n",
      "10\n",
      "hello myself:  ved\n",
      "my rollno is:  100\n"
     ]
    },
    {
     "ename": "AttributeError",
     "evalue": "'student' object has no attribute 'x'",
     "output_type": "error",
     "traceback": [
      "\u001b[1;31m---------------------------------------------------------------------------\u001b[0m",
      "\u001b[1;31mAttributeError\u001b[0m                            Traceback (most recent call last)",
      "\u001b[1;32m<ipython-input-27-67991acaed73>\u001b[0m in \u001b[0;36m<module>\u001b[1;34m\u001b[0m\n\u001b[0;32m     18\u001b[0m \u001b[0mprint\u001b[0m\u001b[1;33m(\u001b[0m\u001b[0ms1\u001b[0m\u001b[1;33m.\u001b[0m\u001b[0mclg_name\u001b[0m\u001b[1;33m)\u001b[0m\u001b[1;33m\u001b[0m\u001b[1;33m\u001b[0m\u001b[0m\n\u001b[0;32m     19\u001b[0m \u001b[0ms1\u001b[0m\u001b[1;33m.\u001b[0m\u001b[0mdisplay\u001b[0m\u001b[1;33m(\u001b[0m\u001b[1;33m)\u001b[0m\u001b[1;33m\u001b[0m\u001b[1;33m\u001b[0m\u001b[0m\n\u001b[1;32m---> 20\u001b[1;33m \u001b[0ms1\u001b[0m\u001b[1;33m.\u001b[0m\u001b[0mx\u001b[0m   \u001b[1;31m# we cannot call this from outside of the method.\u001b[0m\u001b[1;33m\u001b[0m\u001b[1;33m\u001b[0m\u001b[0m\n\u001b[0m",
      "\u001b[1;31mAttributeError\u001b[0m: 'student' object has no attribute 'x'"
     ]
    }
   ],
   "source": [
    "class student:\n",
    "    clg_name='people_click'\n",
    "    def __init__(self,name1,rollno1):\n",
    "        count=0 # local variable/method variable\n",
    "        print('constructor excution...')\n",
    "        self.name=name1  # varaible which are declare with self called instance like name but name1 is not instance.\n",
    "        self.rollno=rollno1      \n",
    "        \n",
    "    def display(self):\n",
    "        x=10   # local variable/method variable\n",
    "        print('method excution...')\n",
    "        print(x)\n",
    "        print('hello myself: ',self.name)\n",
    "        print('my rollno is: ',self.rollno)\n",
    "s1=student('ved',100)    # 'ved' and 100 are instance variable\n",
    "s2=student('dev',101)   # 'dev' and 101 are instance variables\n",
    "s3=student('raju',103)  # 'raju' and 103 are instance variables\n",
    "print(s1.clg_name)\n",
    "s1.display()\n",
    "s1.x   # we cannot call this from outside of the method."
   ]
  },
  {
   "cell_type": "markdown",
   "metadata": {},
   "source": [
    "## now what is instance methods/ object related methods ?"
   ]
  },
  {
   "cell_type": "code",
   "execution_count": 2,
   "metadata": {},
   "outputs": [
    {
     "name": "stdout",
     "output_type": "stream",
     "text": [
      "constructor excution...\n",
      "hello myself:  ved\n",
      "my rollno is:  100\n",
      "people_click\n",
      "people_click\n"
     ]
    }
   ],
   "source": [
    "class student:\n",
    "    clg_name='people_click'    # static variable.\n",
    "    def __init__(self,name1,rollno1):\n",
    "        print('constructor excution...')\n",
    "        x=0                       # local variable\n",
    "        self.name=name1 \n",
    "        self.rollno=rollno1       # here name is instance variable\n",
    "        \n",
    "    def display(self):     #this is instance method where we are accessing instance variable like self.name,self.rollno\n",
    "        #print(x)\n",
    "        print('hello myself: ',self.name)\n",
    "        print('my rollno is: ',self.rollno)\n",
    "s1=student('ved',100) # 'ved' and '100' are instance variable\n",
    "s1.display()\n",
    "print(s1.clg_name)\n",
    "print(student.clg_name) # we can call  by class name also."
   ]
  },
  {
   "cell_type": "markdown",
   "metadata": {},
   "source": [
    "### in above example 'ved' and '100' is instance variables and inside display method i am accessing that\n",
    "### insance variable so its always related to particular object\n",
    "### such type of method are called instance mehod or object related method.\n",
    "### display() is instance method"
   ]
  },
  {
   "cell_type": "markdown",
   "metadata": {},
   "source": [
    "# *@-----------------------------------@@@-----------"
   ]
  },
  {
   "cell_type": "markdown",
   "metadata": {},
   "source": [
    "#  class method"
   ]
  },
  {
   "cell_type": "code",
   "execution_count": 81,
   "metadata": {},
   "outputs": [
    {
     "name": "stdout",
     "output_type": "stream",
     "text": [
      "constructor excution...\n",
      "instance method excution...\n",
      "hello myself:  ved\n",
      "my rollno is:  100\n",
      "college name: people_click\n",
      "college name: people_click\n"
     ]
    }
   ],
   "source": [
    "class student:\n",
    "    clg_name='people_click'\n",
    "    def __init__(self,name1,rollno1):\n",
    "        count=0 \n",
    "        print('constructor excution...')\n",
    "        self.name=name1  \n",
    "        self.rollno=rollno1      \n",
    "        \n",
    "    def display(self): \n",
    "        print('instance method excution...')\n",
    "        print('hello myself: ',self.name)\n",
    "        print('my rollno is: ',self.rollno)\n",
    "    @classmethod            # by looking at this decorator sign we can guess below method is class method.its manadotry\n",
    "    def getcolgname(cls):   # class method coz we are only accessing class level variables not instance\n",
    "        print('college name:',cls.clg_name)\n",
    "s1=student('ved',100)\n",
    "s1.display()\n",
    "s1.getcolgname()\n",
    "student.getcolgname()\n",
    "# class method we can call by refrence variable or by class name.\n",
    "# but we cannot call instance method by class name"
   ]
  },
  {
   "cell_type": "markdown",
   "metadata": {},
   "source": [
    "## like self keyword cls is also not compulsory we can use any keyword inplace of cls.\n",
    "## class method always access class level variables.\n",
    "## but before accesing claas level variable we must provide @classmethod it is compulsory.\n",
    "## we can call class method by class name also and with refrence variable also.\n",
    "## but we cannot call instance method by class name."
   ]
  },
  {
   "cell_type": "markdown",
   "metadata": {},
   "source": [
    "# *@-----------------------------------@@@----------------------------------"
   ]
  },
  {
   "cell_type": "markdown",
   "metadata": {},
   "source": [
    "# Static method"
   ]
  },
  {
   "cell_type": "code",
   "execution_count": 14,
   "metadata": {},
   "outputs": [
    {
     "name": "stdout",
     "output_type": "stream",
     "text": [
      "constructor excution...\n",
      "instance method excution...\n",
      "hello myself:  ved\n",
      "my rollno is:  100\n",
      "class method\n",
      "college name: people_click\n",
      "static method\n"
     ]
    }
   ],
   "source": [
    "class student:\n",
    "    clg_name='people_click'\n",
    "    def __init__(self,name1,rollno1):     # constructor is special type of instance method.\n",
    "        count=0 \n",
    "        print('constructor excution...')\n",
    "        self.name=name1  \n",
    "        self.rollno=rollno1      \n",
    "        \n",
    "    def display(self):            # instance method coz we are accesing variable by using self.\n",
    "        print('instance method excution...')\n",
    "        print('hello myself: ',self.name)\n",
    "        print('my rollno is: ',self.rollno)\n",
    "    @classmethod            # by looking at this decorator sign we can guess below method is class method.its manadotry\n",
    "    def getcolgname(cls):   # class method coz we are accessing class level variables not instance\n",
    "        print('class method')\n",
    "        print('college name:',cls.clg_name)\n",
    "        \n",
    "        \n",
    "    @staticmethod         \n",
    "    def findavg(x,y):    # static method-in this we will not use self and not access class level variable we do some\n",
    "        print('static method') # computation for business purpose.\n",
    "        print('Average',(x+y)/2)\n",
    "        \n",
    "\n",
    "s1=student('ved',100)\n",
    "s1.display()\n",
    "s1.getcolgname()\n",
    "student.findavg(10,20) \n",
    "# we cannot call static method by refrence variable when we will not use @staticmethod on top of any method.\n",
    "# we can call static method either by class name or refrence variable if we used @staticmethod"
   ]
  },
  {
   "cell_type": "markdown",
   "metadata": {},
   "source": [
    "## static method in this we will not acess any instance variable and any class level variable.\n",
    "## we have to use @staticmethod before this method\n",
    "## we can call this method by class name and refrence variables.\n",
    "## if we are not using @staticmethod then we cannot call by refrence variable.\n",
    "## lets see example"
   ]
  },
  {
   "cell_type": "code",
   "execution_count": 17,
   "metadata": {},
   "outputs": [
    {
     "name": "stdout",
     "output_type": "stream",
     "text": [
      "constructor excution...\n"
     ]
    },
    {
     "ename": "TypeError",
     "evalue": "findavg() takes 2 positional arguments but 3 were given",
     "output_type": "error",
     "traceback": [
      "\u001b[1;31m---------------------------------------------------------------------------\u001b[0m",
      "\u001b[1;31mTypeError\u001b[0m                                 Traceback (most recent call last)",
      "\u001b[1;32m<ipython-input-17-fd7667b8e09a>\u001b[0m in \u001b[0;36m<module>\u001b[1;34m\u001b[0m\n\u001b[0;32m     24\u001b[0m \u001b[1;31m# when we declare a static method without @static decorator then python will treat that method as a instance method when we call\u001b[0m\u001b[1;33m\u001b[0m\u001b[1;33m\u001b[0m\u001b[1;33m\u001b[0m\u001b[0m\n\u001b[0;32m     25\u001b[0m \u001b[1;31m# that method by refrence variable we can chcek this,it treat first argument as self.\u001b[0m\u001b[1;33m\u001b[0m\u001b[1;33m\u001b[0m\u001b[1;33m\u001b[0m\u001b[0m\n\u001b[1;32m---> 26\u001b[1;33m \u001b[0ms1\u001b[0m\u001b[1;33m.\u001b[0m\u001b[0mfindavg\u001b[0m\u001b[1;33m(\u001b[0m\u001b[1;36m10\u001b[0m\u001b[1;33m,\u001b[0m\u001b[1;36m20\u001b[0m\u001b[1;33m)\u001b[0m\u001b[1;33m\u001b[0m\u001b[1;33m\u001b[0m\u001b[0m\n\u001b[0m",
      "\u001b[1;31mTypeError\u001b[0m: findavg() takes 2 positional arguments but 3 were given"
     ]
    }
   ],
   "source": [
    "class student:\n",
    "    clg_name='people_click'\n",
    "    def __init__(self,name1,rollno1):\n",
    "        count=0 \n",
    "        print('constructor excution...')\n",
    "        self.name=name1  \n",
    "        self.rollno=rollno1      \n",
    "        \n",
    "    def display(self): \n",
    "        print('instance method excution...')\n",
    "        print('hello myself: ',self.name)\n",
    "        print('my rollno is: ',self.rollno)\n",
    "    @classmethod            # by looking at this decorator sign we can guess below method is class method.its manadotry\n",
    "    def getcolgname(cls):   # class method coz we are accessing class level variables not instance\n",
    "        print('class method')\n",
    "        print('college name:',cls.clg_name)\n",
    "        \n",
    "\n",
    "    def findavg(x,y):    # static method-in this we will not use self and not access class level variable we do some\n",
    "        print('static method') # computation for business purpose.\n",
    "        print('Average',(x+y)/2)\n",
    "s1=student('ved',100)\n",
    "#student.findavg(10,20)\n",
    "# when we declare a static method without @static decorator then python will treat that method as a instance method when we call\n",
    "# that method by refrence variable we can chcek this,it treat first argument as self.\n",
    "s1.findavg(10,20)"
   ]
  },
  {
   "cell_type": "markdown",
   "metadata": {},
   "source": [
    "## we can see above when i didnt write @staticmethod decoratore we must have to call by class name\n",
    "## if decorator is not there then we cannot call by refrence variable."
   ]
  },
  {
   "cell_type": "markdown",
   "metadata": {},
   "source": [
    "# instance variables"
   ]
  },
  {
   "cell_type": "markdown",
   "metadata": {},
   "source": [
    "## if the value is varied from object to object such type of variables are called instance variables.\n",
    "## for every object a seprate copy will be created.\n"
   ]
  },
  {
   "cell_type": "code",
   "execution_count": 20,
   "metadata": {},
   "outputs": [],
   "source": [
    "class student:\n",
    "    def __init__(self,name,rollno):\n",
    "        self.name=name\n",
    "        self.rollno=rollno\n",
    "s1=student('ravi',101)\n",
    "s2=student('pawan',103)"
   ]
  },
  {
   "cell_type": "markdown",
   "metadata": {},
   "source": [
    "# where we can declare instance variables:"
   ]
  },
  {
   "cell_type": "markdown",
   "metadata": {},
   "source": [
    "### variables which declare in constructor with dot of self.(eg---> self.name) here name is instance variable.\n",
    "### inside instance method by using self\n",
    "### we can  declare instance method outside of class by using object refrence."
   ]
  },
  {
   "cell_type": "code",
   "execution_count": 21,
   "metadata": {},
   "outputs": [
    {
     "name": "stdout",
     "output_type": "stream",
     "text": [
      "{'name': 'ravi', 'rollno': 101}\n",
      "{'name': 'ravi', 'rollno': 101, 'marks': 60}\n",
      "{'name': 'ravi', 'rollno': 101, 'marks': 60, 'age': 24}\n"
     ]
    }
   ],
   "source": [
    "class student:\n",
    "    def __init__(self,name1,rollno1):\n",
    "        self.name=name1\n",
    "        self.rollno=rollno1\n",
    "        \n",
    "    def info(self):\n",
    "        self.marks=60\n",
    "        \n",
    "s1=student('ravi',101)\n",
    "\n",
    "print(s1.__dict__)\n",
    "s1.info()\n",
    "print(s1.__dict__)\n",
    "s1.age=24      \n",
    "print(s1.__dict__)"
   ]
  },
  {
   "cell_type": "markdown",
   "metadata": {},
   "source": [
    "### now here i am creating anothe object of the same class"
   ]
  },
  {
   "cell_type": "code",
   "execution_count": 23,
   "metadata": {},
   "outputs": [
    {
     "name": "stdout",
     "output_type": "stream",
     "text": [
      "{'name': 'pawan', 'rollno': 102, 'wife': 'xyz'}\n"
     ]
    }
   ],
   "source": [
    "s2=student('pawan',102)\n",
    "s2.wife='xyz'\n",
    "print(s2.__dict__)\n",
    "# here we can see only 3 instance object are there coz previous one was only for s1 for s2 we declare only three(pawan,102,xyz)"
   ]
  },
  {
   "cell_type": "markdown",
   "metadata": {},
   "source": [
    " # lets see one example "
   ]
  },
  {
   "cell_type": "code",
   "execution_count": 24,
   "metadata": {},
   "outputs": [
    {
     "name": "stdout",
     "output_type": "stream",
     "text": [
      "{'a': 10, 'b': 20, 'c': 30, 'd': 40}\n",
      "{'a': 10, 'b': 20, 'c': 30, 'e': 50, 's': 200, 'y': 300}\n"
     ]
    }
   ],
   "source": [
    "class test:\n",
    "    def __init__(self):\n",
    "        self.a=10\n",
    "        self.b=20\n",
    "        self.c=30\n",
    "        \n",
    "    def m1(self):\n",
    "        self.d=40\n",
    "    \n",
    "    def m2(self):\n",
    "        self.e=50\n",
    "    \n",
    "t1=test()\n",
    "t1.m1()\n",
    "t2=test()\n",
    "t2.m2()\n",
    "t2.s=200\n",
    "t2.y=300\n",
    "print(t1.__dict__) # 10,20,30,40\n",
    "print(t2.__dict__) # 10,20,30,50,200,300"
   ]
  },
  {
   "cell_type": "markdown",
   "metadata": {},
   "source": [
    "# how to access instance variables"
   ]
  },
  {
   "cell_type": "markdown",
   "metadata": {},
   "source": [
    "### within a class by using self\n",
    "### from outside of class by using object refrence."
   ]
  },
  {
   "cell_type": "code",
   "execution_count": 25,
   "metadata": {},
   "outputs": [
    {
     "name": "stdout",
     "output_type": "stream",
     "text": [
      "hello my name is: ved\n",
      "hello my rollno is: 101\n",
      "varible call from outside: ved 101\n"
     ]
    }
   ],
   "source": [
    "class student:\n",
    "    def __init__(self,name,rollno):\n",
    "        self.name=name         # here we are declaring or initialising instance variable.\n",
    "        self.rollno=rollno\n",
    "    \n",
    "    def display(self):\n",
    "        print('hello my name is:',self.name)  # here inside of class i am accessing by using self\n",
    "        print('hello my rollno is:',self.rollno)\n",
    "\n",
    "        \n",
    "s=student('ved',101)\n",
    "s.display()\n",
    "print('varible call from outside:',s.name,s.rollno) # here we are accessing instance variable outside of class by using refrence variables."
   ]
  },
  {
   "cell_type": "markdown",
   "metadata": {},
   "source": [
    "# how to delete instance variables"
   ]
  },
  {
   "cell_type": "markdown",
   "metadata": {},
   "source": [
    "### within a class if you want to delete \n",
    "### syntax is del self.variablename\n",
    "\n",
    "### outside of class if you want to delete\n",
    "### syantax is del objectrefrence.instance variable name"
   ]
  },
  {
   "cell_type": "markdown",
   "metadata": {},
   "source": [
    "### lets see one example"
   ]
  },
  {
   "cell_type": "code",
   "execution_count": 26,
   "metadata": {},
   "outputs": [
    {
     "name": "stdout",
     "output_type": "stream",
     "text": [
      "{'a': 10, 'b': 20, 'c': 30}\n",
      "{'a': 10}\n"
     ]
    }
   ],
   "source": [
    "class test:\n",
    "    def __init__(self):\n",
    "        self.a=10\n",
    "        self.b=20\n",
    "        self.c=30\n",
    "    \n",
    "    def delete(self):\n",
    "        del self.b\n",
    "        del self.c\n",
    "t1=test()\n",
    "print(t1.__dict__) # 10,20,30\n",
    "t1.delete()\n",
    "print(t1.__dict__) # 10"
   ]
  },
  {
   "cell_type": "code",
   "execution_count": 27,
   "metadata": {},
   "outputs": [
    {
     "name": "stdout",
     "output_type": "stream",
     "text": [
      "{'a': 10, 'b': 20, 'c': 30}\n",
      "{'a': 10}\n",
      "{}\n"
     ]
    }
   ],
   "source": [
    "\n",
    "class test:\n",
    "    def __init__(self):\n",
    "        self.a=10\n",
    "        self.b=20\n",
    "        self.c=30\n",
    "    \n",
    "    def delete(self):\n",
    "        del self.b\n",
    "        del self.c\n",
    "t1=test()\n",
    "print(t1.__dict__)\n",
    "t1.delete()\n",
    "print(t1.__dict__) \n",
    "del t1.a            \n",
    "print(t1.__dict__)"
   ]
  },
  {
   "cell_type": "markdown",
   "metadata": {},
   "source": [
    "## Answer this program"
   ]
  },
  {
   "cell_type": "code",
   "execution_count": 28,
   "metadata": {
    "scrolled": true
   },
   "outputs": [
    {
     "name": "stdout",
     "output_type": "stream",
     "text": [
      "888 20\n",
      "10 999\n"
     ]
    }
   ],
   "source": [
    "class test:\n",
    "    def __init__(self):     \n",
    "        self.a=10\n",
    "        self.b=20           \n",
    "t1=test()  \n",
    "t2=test()  \n",
    "t1.a=888     \n",
    "t2.b=999     \n",
    "print(t1.a,t1.b) \n",
    "print(t2.a,t2.b) "
   ]
  },
  {
   "cell_type": "markdown",
   "metadata": {},
   "source": [
    "# Static varibales"
   ]
  },
  {
   "cell_type": "markdown",
   "metadata": {},
   "source": [
    "## if value of variable will not vary from object to object such type of variable we have to declare at class level\n",
    "## unnecessarily it will take lots of memory\n",
    "## for all object only one copy will be created\n",
    "## lets see one example"
   ]
  },
  {
   "cell_type": "markdown",
   "metadata": {},
   "source": [
    "### suppose we made one class student having instance variable rollno,name,age,id these are vary for student to student.\n",
    "### but one thing is common in all their colg name so instead of declaring that colg name for every student we declare it as \n",
    "### class object which can be available for all students."
   ]
  },
  {
   "cell_type": "code",
   "execution_count": 29,
   "metadata": {},
   "outputs": [
    {
     "name": "stdout",
     "output_type": "stream",
     "text": [
      "ved 101 people click\n",
      "pawan 102 people click\n",
      "people click\n"
     ]
    }
   ],
   "source": [
    "class student:\n",
    "    colg_name='people click'       # static variables\n",
    "    def __init__(self,name,rollno):\n",
    "        self.name=name    # instance variable\n",
    "        self.rollno=rollno # instance variable\n",
    "s1=student('ved',101)     # first object and refrence variable\n",
    "s2=student('pawan',102)   # second object and refrence variable\n",
    "print(s1.name,s1.rollno,student.colg_name)   # we can call static variable by refrence variable or by class name,but recomnd to call by class name.\n",
    "print(s2.name,s2.rollno,student.colg_name)\n",
    "# here one static variable and its availabe for both the objects.\n",
    "# we can call static variable by refrence variable also.\n",
    "print(s1.colg_name)"
   ]
  },
  {
   "cell_type": "markdown",
   "metadata": {},
   "source": [
    "# what are various places are there to declare static variables"
   ]
  },
  {
   "cell_type": "markdown",
   "metadata": {},
   "source": [
    "## (1) within the class directly but outside of any method.\n",
    "## (2) inside constructor by using class name.\n",
    "## (3) inside instance method using class name also.\n",
    "## (4) inside classmethod by using cls variable or class name. \n",
    "## (5) inside staticmethod using class name.\n",
    "## (6) outside of class using class name"
   ]
  },
  {
   "cell_type": "code",
   "execution_count": 30,
   "metadata": {},
   "outputs": [
    {
     "name": "stdout",
     "output_type": "stream",
     "text": [
      "{'__module__': '__main__', 'a': 10, '__init__': <function test.__init__ at 0x0000029CB7851158>, 'm1': <function test.m1 at 0x0000029CB7851D08>, 'm2': <classmethod object at 0x0000029CB7847908>, 'm3': <staticmethod object at 0x0000029CB7847048>, '__dict__': <attribute '__dict__' of 'test' objects>, '__weakref__': <attribute '__weakref__' of 'test' objects>, '__doc__': None, 'g': 70}\n",
      "{'__module__': '__main__', 'a': 10, '__init__': <function test.__init__ at 0x0000029CB7851158>, 'm1': <function test.m1 at 0x0000029CB7851D08>, 'm2': <classmethod object at 0x0000029CB7847908>, 'm3': <staticmethod object at 0x0000029CB7847048>, '__dict__': <attribute '__dict__' of 'test' objects>, '__weakref__': <attribute '__weakref__' of 'test' objects>, '__doc__': None, 'g': 70, 'b': 20}\n",
      "{'__module__': '__main__', 'a': 10, '__init__': <function test.__init__ at 0x0000029CB7851158>, 'm1': <function test.m1 at 0x0000029CB7851D08>, 'm2': <classmethod object at 0x0000029CB7847908>, 'm3': <staticmethod object at 0x0000029CB7847048>, '__dict__': <attribute '__dict__' of 'test' objects>, '__weakref__': <attribute '__weakref__' of 'test' objects>, '__doc__': None, 'g': 70, 'b': 20, 'c': 30, 'd': 40, 'e': 50, 'f': 60}\n"
     ]
    }
   ],
   "source": [
    "class test:\n",
    "    a=10                  # static variable inside class but outside of method.\n",
    "    def __init__(self):\n",
    "        test.b=20         # static variable in constructor\n",
    "    def m1(self):\n",
    "        test.c=30         # static variable in method\n",
    "        \n",
    "    @classmethod\n",
    "    def m2(cls):\n",
    "        cls.d=40              # static variables in classmethod using cls\n",
    "        test.e=50              # static variables in classmethod using classname.\n",
    "        \n",
    "    @staticmethod\n",
    "    def m3():\n",
    "        test.f=60            #static variable in staticmethod using classname.\n",
    "        \n",
    "        \n",
    "test.g=70                    \n",
    "print(test.__dict__)      \n",
    "\n",
    "\n",
    "t1=test()\n",
    "print(test.__dict__) \n",
    "t1.m1()\n",
    "t1.m2()\n",
    "t1.m3()\n",
    "print(test.__dict__) "
   ]
  },
  {
   "cell_type": "markdown",
   "metadata": {},
   "source": [
    "# how to acess static variables"
   ]
  },
  {
   "cell_type": "markdown",
   "metadata": {},
   "source": [
    "## we can acess static variables either by classname or by object reference.\n",
    "## within class:\n",
    "   ## by using classname,self,cls we can access.\n",
    "## outside of class:\n",
    "   ## by using object reference, classname we can access."
   ]
  },
  {
   "cell_type": "code",
   "execution_count": 31,
   "metadata": {
    "scrolled": true
   },
   "outputs": [
    {
     "name": "stdout",
     "output_type": "stream",
     "text": [
      "10\n",
      "10\n",
      "inside instance method\n",
      "10\n",
      "10\n",
      "inside classmethod\n",
      "10\n",
      "10\n",
      "inside static method\n",
      "10\n",
      "outside of class\n",
      "10\n",
      "10\n"
     ]
    }
   ],
   "source": [
    "class test:\n",
    "    a=10      # static varible\n",
    "    def __init__(self):\n",
    "        print(test.a)      # acess static variable inside constructor using class name\n",
    "        print(self.a)       # acess static variable inside constructor using self\n",
    "        \n",
    "    def m1(self):          # instance method\n",
    "        print('inside instance method')\n",
    "        print(test.a)              #  acess static variable inside instance method using class name.\n",
    "        print(self.a)               # acess static variable inside instance mrthod using self.\n",
    "        \n",
    "    @classmethod\n",
    "    def m2(cls):                   # class method\n",
    "        print('inside classmethod')\n",
    "        print(test.a)              # acess static variable inside classmethod using class name\n",
    "        print(cls.a)                # acess static variable inside classmethod using cls\n",
    "\n",
    "\n",
    "        \n",
    "    @staticmethod\n",
    "    def m3():       # staticmethod\n",
    "        print('inside static method')\n",
    "        print(test.a)     # acess static variable inside static method by only class name.\n",
    "\n",
    "t=test()\n",
    "t.m1()\n",
    "t.m2()\n",
    "t.m3()\n",
    "print('outside of class')\n",
    "print(test.a)   # acess static variable outside class using class name\n",
    "print(t.a)       # acess static variable outside class using refrence variables\n",
    "\n",
    "# but recomended to use class name to access statice variables."
   ]
  },
  {
   "cell_type": "markdown",
   "metadata": {},
   "source": [
    "# how to modify static variables:"
   ]
  },
  {
   "cell_type": "markdown",
   "metadata": {},
   "source": [
    "# within a class to modify we should use \n",
    "   # classname ,cls variable(cls for classmethod)\n",
    "# from outside of class only we can modify by using classname"
   ]
  },
  {
   "cell_type": "code",
   "execution_count": 33,
   "metadata": {
    "scrolled": true
   },
   "outputs": [
    {
     "name": "stdout",
     "output_type": "stream",
     "text": [
      "{'__module__': '__main__', 'a': 20, '__init__': <function test.__init__ at 0x0000029CB78519D8>, 'm1': <classmethod object at 0x0000029CB77AC518>, 'm2': <staticmethod object at 0x0000029CB77AC7F0>, '__dict__': <attribute '__dict__' of 'test' objects>, '__weakref__': <attribute '__weakref__' of 'test' objects>, '__doc__': None}\n",
      "60\n",
      "60\n"
     ]
    }
   ],
   "source": [
    "# how to change the value of a to 20 from 10\n",
    "class test:\n",
    "    a=10\n",
    "    def __init__(self):\n",
    "        test.a=20   \n",
    "      \n",
    "    @classmethod\n",
    "    def m1(cls):\n",
    "        cls.a=30   \n",
    "        test.a=40   \n",
    "        \n",
    "    @staticmethod\n",
    "    def m2():\n",
    "        test.a=50  # \n",
    "t=test()\n",
    "print(test.__dict__)#20\n",
    "t.m1()#40\n",
    "t.m2()#50\n",
    "test.a=60  \n",
    "print(test.a)#60\n",
    "print(t.a)#       -60\n"
   ]
  },
  {
   "cell_type": "markdown",
   "metadata": {},
   "source": [
    "# how to delete static variables"
   ]
  },
  {
   "cell_type": "markdown",
   "metadata": {},
   "source": [
    "## inside class we should use either class name or cls variable to delete.\n",
    "## outside of class we should only use class name to delete\n",
    "## lets see example"
   ]
  },
  {
   "cell_type": "code",
   "execution_count": 15,
   "metadata": {
    "scrolled": true
   },
   "outputs": [
    {
     "name": "stdout",
     "output_type": "stream",
     "text": [
      "{'__module__': '__main__', 'a': 100, '__init__': <function Test.__init__ at 0x0000018AD2C4E950>, '__dict__': <attribute '__dict__' of 'Test' objects>, '__weakref__': <attribute '__weakref__' of 'Test' objects>, '__doc__': None}\n",
      "************************************************************************************************************************\n",
      "{'__module__': '__main__', '__init__': <function Test.__init__ at 0x0000018AD2C4E950>, '__dict__': <attribute '__dict__' of 'Test' objects>, '__weakref__': <attribute '__weakref__' of 'Test' objects>, '__doc__': None}\n"
     ]
    }
   ],
   "source": [
    "class Test:\n",
    "    a=100\n",
    "    def __init__(self):\n",
    "        del Test.a\n",
    "        \n",
    "        \n",
    "print(Test.__dict__) # it shows variable before deleteion\n",
    "t=Test()        # here we created object of class so constructor excuted and value will be deleted\n",
    "print('*'*120)\n",
    "print(Test.__dict__) # here we can see no value are there "
   ]
  },
  {
   "cell_type": "markdown",
   "metadata": {},
   "source": [
    "## to delete static variable from outside of class we need to use classname if we use refrence variable get name error."
   ]
  },
  {
   "cell_type": "markdown",
   "metadata": {},
   "source": [
    "## some question guess the output"
   ]
  },
  {
   "cell_type": "code",
   "execution_count": 34,
   "metadata": {},
   "outputs": [
    {
     "name": "stdout",
     "output_type": "stream",
     "text": [
      "10\n",
      "888\n",
      "10\n",
      "10\n"
     ]
    }
   ],
   "source": [
    "class test:\n",
    "    a=10       # \n",
    "    def m1(self):\n",
    "        self.a=888    # \n",
    "        \n",
    "t=test()\n",
    "t.m1()\n",
    "print(test.a)#\n",
    "print(t.a)#\n",
    "del t.a \n",
    "print(test.a)# \n",
    "print(t.a)#"
   ]
  },
  {
   "cell_type": "code",
   "execution_count": 42,
   "metadata": {
    "scrolled": true
   },
   "outputs": [
    {
     "name": "stdout",
     "output_type": "stream",
     "text": [
      "10 999\n",
      "10\n"
     ]
    },
    {
     "ename": "AttributeError",
     "evalue": "'test' object has no attribute 'y'",
     "output_type": "error",
     "traceback": [
      "\u001b[1;31m---------------------------------------------------------------------------\u001b[0m",
      "\u001b[1;31mAttributeError\u001b[0m                            Traceback (most recent call last)",
      "\u001b[1;32m<ipython-input-42-aa63926c8030>\u001b[0m in \u001b[0;36m<module>\u001b[1;34m\u001b[0m\n\u001b[0;32m     11\u001b[0m \u001b[0mprint\u001b[0m\u001b[1;33m(\u001b[0m\u001b[0mt2\u001b[0m\u001b[1;33m.\u001b[0m\u001b[0mx\u001b[0m\u001b[1;33m)\u001b[0m \u001b[1;31m#10\u001b[0m\u001b[1;33m\u001b[0m\u001b[1;33m\u001b[0m\u001b[0m\n\u001b[0;32m     12\u001b[0m \u001b[1;33m\u001b[0m\u001b[0m\n\u001b[1;32m---> 13\u001b[1;33m \u001b[0mprint\u001b[0m\u001b[1;33m(\u001b[0m\u001b[0mt2\u001b[0m\u001b[1;33m.\u001b[0m\u001b[0my\u001b[0m\u001b[1;33m)\u001b[0m \u001b[1;31m#20---error\u001b[0m\u001b[1;33m\u001b[0m\u001b[1;33m\u001b[0m\u001b[0m\n\u001b[0m",
      "\u001b[1;31mAttributeError\u001b[0m: 'test' object has no attribute 'y'"
     ]
    }
   ],
   "source": [
    "class test:\n",
    "    x=10                # static variable\n",
    "    def m1(self):\n",
    "        self.y=20       # instance\n",
    "\n",
    "t1=test()\n",
    "t2=test()\n",
    "t1.x=888      #\n",
    "t1.y=999      # \n",
    "print(test.x,t1.y)#10,999\n",
    "print(t2.x) #10\n",
    "\n",
    "print(t2.y) #20---error"
   ]
  },
  {
   "cell_type": "code",
   "execution_count": 1,
   "metadata": {
    "scrolled": true
   },
   "outputs": [
    {
     "name": "stdout",
     "output_type": "stream",
     "text": [
      "888 999\n",
      "10\n",
      "20\n"
     ]
    }
   ],
   "source": [
    "# coz here constructor excuted as we create object of the class and y instance variable created.\n",
    "class test:\n",
    "    x=10\n",
    "    def __init__(self):\n",
    "        self.y=20\n",
    "\n",
    "t1=test()\n",
    "t2=test()\n",
    "t1.x=888\n",
    "t1.y=999\n",
    "print(t1.x,t1.y)\n",
    "print(t2.x)   \n",
    "print(t2.y) "
   ]
  },
  {
   "cell_type": "code",
   "execution_count": 2,
   "metadata": {},
   "outputs": [
    {
     "name": "stdout",
     "output_type": "stream",
     "text": [
      "10 10\n",
      "10 20\n",
      "{'__module__': '__main__', 'x': 10, '__init__': <function test.__init__ at 0x0000018F7DA8A488>, '__dict__': <attribute '__dict__' of 'test' objects>, '__weakref__': <attribute '__weakref__' of 'test' objects>, '__doc__': None}\n",
      "{'__module__': '__main__', 'x': 888, '__init__': <function test.__init__ at 0x0000018F7DA8A488>, '__dict__': <attribute '__dict__' of 'test' objects>, '__weakref__': <attribute '__weakref__' of 'test' objects>, '__doc__': None}\n",
      "{'y': 20}\n",
      "{'y': 999, 'z': 456}\n",
      "888 999\n",
      "888\n",
      "20\n"
     ]
    }
   ],
   "source": [
    "class test:\n",
    "    x=10         # static\n",
    "    def __init__(self):\n",
    "        self.y=20      # instance\n",
    "\n",
    "t1=test()\n",
    "t2=test()\n",
    "print(t1.x,t2.x)\n",
    "print(t1.x,t1.y) \n",
    "print(test.__dict__)#10\n",
    "test.x=888    \n",
    "print(test.__dict__)#888\n",
    "print(t1.__dict__)#10--888---20\n",
    "t1.y=999 \n",
    "t1.z=456 \n",
    "print(t1.__dict__)#\n",
    "print(t1.x,t1.y)#888,999\n",
    "print(t2.x) #10,888\n",
    "print(t2.y)  #20"
   ]
  },
  {
   "cell_type": "code",
   "execution_count": 3,
   "metadata": {},
   "outputs": [
    {
     "data": {
      "text/plain": [
       "10"
      ]
     },
     "execution_count": 3,
     "metadata": {},
     "output_type": "execute_result"
    }
   ],
   "source": [
    "class xyz:\n",
    "    b=10\n",
    "    def __init__(self):\n",
    "        self.y=20\n",
    "        \n",
    "x=xyz()\n",
    "x.b = 777\n",
    "xyz.b"
   ]
  },
  {
   "cell_type": "markdown",
   "metadata": {},
   "source": [
    "# Local variables:\n",
    " ## method level variables we should not use self,cls,classname\n",
    " ## local method we can not access from different method."
   ]
  },
  {
   "cell_type": "code",
   "execution_count": 4,
   "metadata": {},
   "outputs": [
    {
     "name": "stdout",
     "output_type": "stream",
     "text": [
      "100\n",
      "200\n"
     ]
    }
   ],
   "source": [
    "class test:\n",
    "    def m1(self):\n",
    "        a=100     # here i decalre this variable inside a method without self and cls known local variables.\n",
    "        print(a)\n",
    "    def m2(self):\n",
    "        b=200      # this is also local variables.\n",
    "        print(b)\n",
    "t=test()\n",
    "t.m1()\n",
    "t.m2()   "
   ]
  },
  {
   "cell_type": "code",
   "execution_count": 5,
   "metadata": {
    "scrolled": true
   },
   "outputs": [
    {
     "name": "stdout",
     "output_type": "stream",
     "text": [
      "100\n",
      "200\n"
     ]
    },
    {
     "ename": "NameError",
     "evalue": "name 'a' is not defined",
     "output_type": "error",
     "traceback": [
      "\u001b[1;31m---------------------------------------------------------------------------\u001b[0m",
      "\u001b[1;31mNameError\u001b[0m                                 Traceback (most recent call last)",
      "\u001b[1;32m<ipython-input-5-1a7753c0ec55>\u001b[0m in \u001b[0;36m<module>\u001b[1;34m\u001b[0m\n\u001b[0;32m      9\u001b[0m \u001b[0mt\u001b[0m\u001b[1;33m=\u001b[0m\u001b[0mtest\u001b[0m\u001b[1;33m(\u001b[0m\u001b[1;33m)\u001b[0m\u001b[1;33m\u001b[0m\u001b[1;33m\u001b[0m\u001b[0m\n\u001b[0;32m     10\u001b[0m \u001b[0mt\u001b[0m\u001b[1;33m.\u001b[0m\u001b[0mm1\u001b[0m\u001b[1;33m(\u001b[0m\u001b[1;33m)\u001b[0m\u001b[1;33m\u001b[0m\u001b[1;33m\u001b[0m\u001b[0m\n\u001b[1;32m---> 11\u001b[1;33m \u001b[0mt\u001b[0m\u001b[1;33m.\u001b[0m\u001b[0mm2\u001b[0m\u001b[1;33m(\u001b[0m\u001b[1;33m)\u001b[0m\u001b[1;33m\u001b[0m\u001b[1;33m\u001b[0m\u001b[0m\n\u001b[0m",
      "\u001b[1;32m<ipython-input-5-1a7753c0ec55>\u001b[0m in \u001b[0;36mm2\u001b[1;34m(self)\u001b[0m\n\u001b[0;32m      6\u001b[0m         \u001b[0mb\u001b[0m\u001b[1;33m=\u001b[0m\u001b[1;36m200\u001b[0m      \u001b[1;31m# this is also local variables.\u001b[0m\u001b[1;33m\u001b[0m\u001b[1;33m\u001b[0m\u001b[0m\n\u001b[0;32m      7\u001b[0m         \u001b[0mprint\u001b[0m\u001b[1;33m(\u001b[0m\u001b[0mb\u001b[0m\u001b[1;33m)\u001b[0m\u001b[1;33m\u001b[0m\u001b[1;33m\u001b[0m\u001b[0m\n\u001b[1;32m----> 8\u001b[1;33m         \u001b[0mprint\u001b[0m\u001b[1;33m(\u001b[0m\u001b[0ma\u001b[0m\u001b[1;33m)\u001b[0m   \u001b[1;31m# here we cannot acess a in this method coz its declare in m1() method.\u001b[0m\u001b[1;33m\u001b[0m\u001b[1;33m\u001b[0m\u001b[0m\n\u001b[0m\u001b[0;32m      9\u001b[0m \u001b[0mt\u001b[0m\u001b[1;33m=\u001b[0m\u001b[0mtest\u001b[0m\u001b[1;33m(\u001b[0m\u001b[1;33m)\u001b[0m\u001b[1;33m\u001b[0m\u001b[1;33m\u001b[0m\u001b[0m\n\u001b[0;32m     10\u001b[0m \u001b[0mt\u001b[0m\u001b[1;33m.\u001b[0m\u001b[0mm1\u001b[0m\u001b[1;33m(\u001b[0m\u001b[1;33m)\u001b[0m\u001b[1;33m\u001b[0m\u001b[1;33m\u001b[0m\u001b[0m\n",
      "\u001b[1;31mNameError\u001b[0m: name 'a' is not defined"
     ]
    }
   ],
   "source": [
    "class test:\n",
    "    def m1(self):\n",
    "        a=100     # here i decalre this variable inside a method without self and cls known local variables.\n",
    "        print(a)\n",
    "    def m2(self):\n",
    "        b=200      # this is also local variables.\n",
    "        print(b)\n",
    "        print(a)   # here we cannot acess a in this method coz its declare in m1() method.\n",
    "t=test()\n",
    "t.m1()\n",
    "t.m2() "
   ]
  },
  {
   "cell_type": "markdown",
   "metadata": {},
   "source": [
    "# now lets check global variable concept we can use in classs or not?"
   ]
  },
  {
   "cell_type": "code",
   "execution_count": 8,
   "metadata": {},
   "outputs": [
    {
     "name": "stdout",
     "output_type": "stream",
     "text": [
      "100\n",
      "555\n",
      "555\n",
      "100\n"
     ]
    }
   ],
   "source": [
    "x=100    # here x is global variable coz we decalre its outside of class.\n",
    "class test:\n",
    "    x=555\n",
    "    def m1(self):\n",
    "        print(x)   # so we can access the value of x\n",
    "    def m2(self):\n",
    "        print(test.x)\n",
    "\n",
    "t=test()\n",
    "t.m1()\n",
    "t.m2()\n",
    "print(t.x)\n",
    "print(x)"
   ]
  },
  {
   "cell_type": "code",
   "execution_count": 9,
   "metadata": {
    "scrolled": true
   },
   "outputs": [
    {
     "name": "stdout",
     "output_type": "stream",
     "text": [
      "101\n"
     ]
    },
    {
     "ename": "NameError",
     "evalue": "name 'y' is not defined",
     "output_type": "error",
     "traceback": [
      "\u001b[1;31m---------------------------------------------------------------------------\u001b[0m",
      "\u001b[1;31mNameError\u001b[0m                                 Traceback (most recent call last)",
      "\u001b[1;32m<ipython-input-9-0149ae4ef921>\u001b[0m in \u001b[0;36m<module>\u001b[1;34m\u001b[0m\n\u001b[0;32m      6\u001b[0m \u001b[0mt\u001b[0m\u001b[1;33m=\u001b[0m\u001b[0mtest\u001b[0m\u001b[1;33m(\u001b[0m\u001b[1;33m)\u001b[0m\u001b[1;33m\u001b[0m\u001b[1;33m\u001b[0m\u001b[0m\n\u001b[0;32m      7\u001b[0m \u001b[0mt\u001b[0m\u001b[1;33m.\u001b[0m\u001b[0mm1\u001b[0m\u001b[1;33m(\u001b[0m\u001b[1;33m)\u001b[0m\u001b[1;31m#101--\u001b[0m\u001b[1;33m\u001b[0m\u001b[1;33m\u001b[0m\u001b[0m\n\u001b[1;32m----> 8\u001b[1;33m \u001b[0mprint\u001b[0m\u001b[1;33m(\u001b[0m\u001b[0my\u001b[0m\u001b[1;33m)\u001b[0m\u001b[1;31m#error\u001b[0m\u001b[1;33m\u001b[0m\u001b[1;33m\u001b[0m\u001b[0m\n\u001b[0m",
      "\u001b[1;31mNameError\u001b[0m: name 'y' is not defined"
     ]
    }
   ],
   "source": [
    "class test:\n",
    "    y=101           # this is not treated as global for that we have to do some extra functionality.\n",
    "    def m1(self):\n",
    "        print(test.y)   # so we can access the value of y\n",
    "\n",
    "t=test()\n",
    "t.m1()#101--\n",
    "print(y)#error"
   ]
  },
  {
   "cell_type": "code",
   "execution_count": 10,
   "metadata": {},
   "outputs": [
    {
     "name": "stdout",
     "output_type": "stream",
     "text": [
      "101\n",
      "101\n",
      "101\n"
     ]
    }
   ],
   "source": [
    "class test:\n",
    "    global y\n",
    "    y=101           \n",
    "    def m1(self):\n",
    "        print(y)   \n",
    "    def m2(self):\n",
    "        print(y)\n",
    "\n",
    "t=test()\n",
    "t.m1()\n",
    "t.m2()\n",
    "print(y) "
   ]
  },
  {
   "cell_type": "code",
   "execution_count": 12,
   "metadata": {},
   "outputs": [
    {
     "name": "stdout",
     "output_type": "stream",
     "text": [
      "100\n",
      "777\n",
      "100\n",
      "777\n"
     ]
    }
   ],
   "source": [
    "x=100\n",
    "class test:\n",
    "    x=777          \n",
    "    def m1(self):\n",
    "        print(x)  \n",
    "        print(self.x)   \n",
    "    def m2(self):\n",
    "        print(x)\n",
    "        print(self.x) \n",
    "\n",
    "t=test()\n",
    "t.m1()\n",
    "t.m2()"
   ]
  },
  {
   "cell_type": "code",
   "execution_count": 13,
   "metadata": {
    "scrolled": false
   },
   "outputs": [
    {
     "name": "stdout",
     "output_type": "stream",
     "text": [
      "888\n",
      "777\n",
      "100\n",
      "777\n"
     ]
    }
   ],
   "source": [
    "x=100\n",
    "class test:\n",
    "    x=777          \n",
    "    def m1(self):\n",
    "        x=888\n",
    "        print(x)   \n",
    "        print(self.x)   \n",
    "    def m2(self):\n",
    "        print(x)\n",
    "        print(self.x) \n",
    "\n",
    "t=test()\n",
    "t.m1()#888,888----\n",
    "t.m2()#100,777\n"
   ]
  },
  {
   "cell_type": "code",
   "execution_count": null,
   "metadata": {
    "scrolled": false
   },
   "outputs": [
    {
     "name": "stdout",
     "output_type": "stream",
     "text": [
      "Welcome to STATE BANK OF INDIA\n",
      "enter your nameved\n",
      "d-Deposite\\w-Withdraw\\e-Exit\n",
      "choose your option:d\n",
      "enter amount to deposit500000\n",
      "after deposit the balance: 500000\n",
      "d-Deposite\\w-Withdraw\\e-Exit\n",
      "choose your option:w\n",
      "enter amount to withdraw60000000000\n",
      "insufficient fund..cannot perform operations\n",
      "after withdrwal your balance : -59999500000\n",
      "d-Deposite\\w-Withdraw\\e-Exit\n",
      "choose your option:e\n",
      "thanks for banking\n",
      "d-Deposite\\w-Withdraw\\e-Exit\n",
      "choose your option:skdn;k\n"
     ]
    }
   ],
   "source": [
    "#import sys\n",
    "class customer:\n",
    "    ''' Customer class with bank related operations'''\n",
    "    bankname='STATE BANK OF INDIA'\n",
    "    \n",
    "    def __init__(self,name,balance=0):\n",
    "        self.name=name\n",
    "        self.balance=balance\n",
    "    \n",
    "    def deposite(self,amt):\n",
    "        self.balance=self.balance+amt\n",
    "        print('after deposit the balance:',self.balance)\n",
    "        \n",
    "    def withdraw(self,amt):\n",
    "        if amt>self.balance:\n",
    "            print('insufficient fund..cannot perform operations')\n",
    "            exit()\n",
    "        self.balance=self.balance-amt\n",
    "        print('after withdrwal your balance :',self.balance)\n",
    "print('Welcome to',customer.bankname)\n",
    "name=input('enter your name')\n",
    "c=customer(name)\n",
    "while True:\n",
    "    print('d-Deposite\\w-Withdraw\\e-Exit')\n",
    "    option=input('choose your option:')\n",
    "    if option.lower()=='d':\n",
    "        amt=eval(input('enter amount to deposit'))\n",
    "        c.deposite(amt)\n",
    "        \n",
    "    elif option.lower()=='w':\n",
    "        amt=eval(input('enter amount to withdraw'))\n",
    "        c.withdraw(amt)\n",
    "        \n",
    "    elif option.lower()=='e':\n",
    "        print('thanks for banking')\n",
    "        exit(0)\n",
    "    \n",
    "    else:\n",
    "        print('enter valid option')"
   ]
  },
  {
   "cell_type": "markdown",
   "metadata": {},
   "source": [
    "# lets understand one more example"
   ]
  },
  {
   "cell_type": "code",
   "execution_count": 3,
   "metadata": {},
   "outputs": [
    {
     "name": "stdout",
     "output_type": "stream",
     "text": [
      "enter student name:xyz\n",
      "enter student marks:55\n",
      "Hi xyz\n",
      "your marks are: 55\n",
      "second grade\n",
      "* * * * * * * * * * * * * * * * * * * * * * * * * * * * * * * * * * * * * * * * \n"
     ]
    }
   ],
   "source": [
    "class student:\n",
    "    \n",
    "    def __init__(self,name,marks):\n",
    "        self.name=name   # instance variable\n",
    "        self.marks=marks\n",
    "        \n",
    "    def display(self):     # first argument of instance method is self.\n",
    "        \n",
    "        print('Hi',self.name)   # we are acessing instance variable so it is instance method.\n",
    "        print('your marks are:',self.marks)\n",
    "        \n",
    "        \n",
    "    def grade(self):   # this is also instance method of different functionality.\n",
    "        \n",
    "        if self.marks>=60:\n",
    "            print('First Grade')\n",
    "            \n",
    "        elif self.marks>=50:\n",
    "            print('second grade')\n",
    "            \n",
    "        elif self.marks>=35:\n",
    "            print('third grade')\n",
    "            \n",
    "        else:\n",
    "            print('you are failed')\n",
    "            \n",
    "    \n",
    "n=int(input('enter number of students:'))#3\n",
    "for i in range(n):#3\n",
    "    name=input('enter student name:')#xyz\n",
    "    marks=int(input('enter student marks:'))#43\n",
    "    s=student(name,marks)\n",
    "    s.display()\n",
    "    s.grade()\n",
    "    print('* '*40)"
   ]
  },
  {
   "cell_type": "markdown",
   "metadata": {},
   "source": [
    "#### in the previous example i wrote constructor and i was passing name and marks for constructor. this is one way\n",
    "#### but there is also one method we will create empty object and the for name we will do like s.setName('deepika'),s.setMarks(60)"
   ]
  },
  {
   "cell_type": "markdown",
   "metadata": {},
   "source": [
    "# Setter and getter methods"
   ]
  },
  {
   "cell_type": "markdown",
   "metadata": {},
   "source": [
    "## we are using setter and getter method to set the data to the object and to get the data from the objects."
   ]
  },
  {
   "cell_type": "markdown",
   "metadata": {},
   "source": [
    "## this is alternative of constructor."
   ]
  },
  {
   "cell_type": "markdown",
   "metadata": {},
   "source": [
    "## biggest advanategs of getter and setter method is security this we will read later"
   ]
  },
  {
   "cell_type": "code",
   "execution_count": 12,
   "metadata": {},
   "outputs": [
    {
     "name": "stdout",
     "output_type": "stream",
     "text": [
      "enter number of students:2\n",
      "enter student name:ved\n",
      "enter marks:42\n",
      "hello your name is : ved\n",
      "hello your marks is : 42\n",
      "* * * * * * * * * * * * * * * * * * * * \n",
      "enter student name:xyz\n",
      "enter marks:88\n",
      "hello your name is : xyz\n",
      "hello your marks is : 88\n",
      "* * * * * * * * * * * * * * * * * * * * \n"
     ]
    }
   ],
   "source": [
    "class student:\n",
    "    \n",
    "    def setName(self,name):\n",
    "        self.Name=name\n",
    "        \n",
    "    def setMarks(self,marks):\n",
    "        self.Marks=marks\n",
    "        \n",
    "    def getName(self):\n",
    "        return self.Name\n",
    "    \n",
    "    def getMarks(self):\n",
    "        return self.Marks\n",
    "    \n",
    "n=int(input('enter number of students:'))\n",
    "for i in range(n):\n",
    "    name=input('enter student name:')\n",
    "    marks=int(input('enter marks:'))\n",
    "    s=student()\n",
    "    s.setName(name)\n",
    "    s.setMarks(marks)\n",
    "    print('hello your name is :',s.getName())\n",
    "    print('hello your marks is :',s.getMarks())\n",
    "    print('* '*20)"
   ]
  },
  {
   "cell_type": "code",
   "execution_count": 121,
   "metadata": {},
   "outputs": [
    {
     "name": "stdout",
     "output_type": "stream",
     "text": [
      "enter number of students:3\n",
      "enter student name:dimple\n",
      "enter marks:45\n",
      "hello your name and marks is : ('dimple', 45)\n",
      "* * * * * * * * * * * * * * * * * * * * \n",
      "enter student name:xyz\n",
      "enter marks:49\n",
      "hello your name and marks is : ('xyz', 49)\n",
      "* * * * * * * * * * * * * * * * * * * * \n",
      "enter student name:abc\n",
      "enter marks:79\n",
      "hello your name and marks is : ('abc', 79)\n",
      "* * * * * * * * * * * * * * * * * * * * \n"
     ]
    }
   ],
   "source": [
    "class student:\n",
    "    \n",
    "    def set(self,name,marks):\n",
    "        self.name=name\n",
    "        self.marks=marks\n",
    "        \n",
    "    def get(self):\n",
    "        return self.name,self.marks\n",
    "    \n",
    "n=int(input('enter number of students:'))\n",
    "for i in range(n):\n",
    "    name=input('enter student name:')\n",
    "    marks=int(input('enter marks:'))\n",
    "    s=student()\n",
    "    s.set(name,marks)\n",
    "    print('hello your name and marks is :',s.get())\n",
    "    print('* '*20)"
   ]
  },
  {
   "cell_type": "markdown",
   "metadata": {},
   "source": [
    "# instance method  V/S     Class method    V/S    Static method"
   ]
  },
  {
   "cell_type": "code",
   "execution_count": 1,
   "metadata": {},
   "outputs": [
    {
     "name": "stdout",
     "output_type": "stream",
     "text": [
      "dog walks with 4 legs\n",
      "cat walks with 4 legs\n"
     ]
    },
    {
     "ename": "NameError",
     "evalue": "name 'a' is not defined",
     "output_type": "error",
     "traceback": [
      "\u001b[1;31m---------------------------------------------------------------------------\u001b[0m",
      "\u001b[1;31mNameError\u001b[0m                                 Traceback (most recent call last)",
      "\u001b[1;32m<ipython-input-1-35cd05259121>\u001b[0m in \u001b[0;36m<module>\u001b[1;34m\u001b[0m\n\u001b[0;32m     10\u001b[0m \u001b[0manimal\u001b[0m\u001b[1;33m.\u001b[0m\u001b[0mwalk\u001b[0m\u001b[1;33m(\u001b[0m\u001b[1;34m'cat'\u001b[0m\u001b[1;33m)\u001b[0m\u001b[1;33m\u001b[0m\u001b[1;33m\u001b[0m\u001b[0m\n\u001b[0;32m     11\u001b[0m \u001b[1;33m\u001b[0m\u001b[0m\n\u001b[1;32m---> 12\u001b[1;33m \u001b[0ma\u001b[0m\u001b[1;33m.\u001b[0m\u001b[0mwalk\u001b[0m\u001b[1;33m(\u001b[0m\u001b[1;34m'cow'\u001b[0m\u001b[1;33m)\u001b[0m\u001b[1;33m\u001b[0m\u001b[1;33m\u001b[0m\u001b[0m\n\u001b[0m",
      "\u001b[1;31mNameError\u001b[0m: name 'a' is not defined"
     ]
    }
   ],
   "source": [
    "class animal:\n",
    "    legs=4\n",
    "    \n",
    "    @classmethod\n",
    "    def walk(cls,name):   # here name is local method in this. and legs is class variable so we are acessing by cls.\n",
    "        print('{} walks with {} legs'.format(name,cls.legs))\n",
    " \n",
    "#a=animal()\n",
    "animal.walk('dog')\n",
    "animal.walk('cat')\n",
    "\n",
    "a.walk('cow')"
   ]
  },
  {
   "cell_type": "markdown",
   "metadata": {},
   "source": [
    "#### write a program to track number of objects created for a class."
   ]
  },
  {
   "cell_type": "code",
   "execution_count": 2,
   "metadata": {},
   "outputs": [
    {
     "name": "stdout",
     "output_type": "stream",
     "text": [
      "the number of objects created: 5\n"
     ]
    }
   ],
   "source": [
    "class test:\n",
    "    count=0   # static\n",
    "    def __init__(self): # constructor -excute when you create object\n",
    "        test.count=test.count+1\n",
    "        \n",
    "    @classmethod        # its manadatory\n",
    "    def getnoOfobjects(cls):\n",
    "        print('the number of objects created:',cls.count) #we are only accesiing class level object so its class method\n",
    "\n",
    "t1=test()\n",
    "t2=test()\n",
    "t3=test()\n",
    "t4=test()\n",
    "t5=test()\n",
    "test.getnoOfobjects()"
   ]
  },
  {
   "cell_type": "markdown",
   "metadata": {},
   "source": [
    "## static method"
   ]
  },
  {
   "cell_type": "markdown",
   "metadata": {},
   "source": [
    "### general utility method or helper method no related to instance and class variable,for computation process."
   ]
  },
  {
   "cell_type": "markdown",
   "metadata": {},
   "source": [
    "### we can call static method by object or classname ,but recomended to call by class name"
   ]
  },
  {
   "cell_type": "markdown",
   "metadata": {},
   "source": [
    "### we must have to write @staticmethod before the function declaration"
   ]
  },
  {
   "cell_type": "code",
   "execution_count": 3,
   "metadata": {},
   "outputs": [
    {
     "name": "stdout",
     "output_type": "stream",
     "text": [
      "the sum: 30\n",
      "the product is: 200\n",
      "the average is: 15.0\n"
     ]
    }
   ],
   "source": [
    "class devops:\n",
    "    \n",
    "    @staticmethod\n",
    "    def add(x,y):\n",
    "        print('the sum:',x+y)\n",
    "        \n",
    "    @staticmethod\n",
    "    def product(x,y):\n",
    "        print('the product is:',x*y)\n",
    "        \n",
    "    @staticmethod\n",
    "    def average(x,y):\n",
    "        print('the average is:',(x+y)/2)\n",
    "    \n",
    "    \n",
    "devops.add(10,20)\n",
    "devops.product(10,20)\n",
    "devops.average(10,20)"
   ]
  },
  {
   "cell_type": "markdown",
   "metadata": {},
   "source": [
    "### if we are using any instance variable inside method then that method is insance method.\n",
    "### we should call instance method by object refrence only.\n",
    "### when we are using only static variable inside method body then this method is no were related to object its class method.\n",
    "### we can call static method eitheer by object or class name recomended to call by class name.\n",
    "### if we are not using instance and static variable inside a method just we only using any method for general utility\n",
    "### method like for computation\n",
    "### we can call static method by object or class name but recomended to call by class name.\n",
    "### its not manadatory to write @staticmethod before declaring staticmethod. decoartor manadatory for classmethod.\n",
    "### if we are not using any decorator then it is instance method or staticmethod ?\n",
    "### if we are calling by using object refrence then it should be instance method.\n",
    "### if we are calling by using class name then it should be static method"
   ]
  },
  {
   "cell_type": "code",
   "execution_count": 6,
   "metadata": {},
   "outputs": [
    {
     "name": "stdout",
     "output_type": "stream",
     "text": [
      "9\n",
      "some method\n"
     ]
    }
   ],
   "source": [
    "class test:\n",
    "    \n",
    "    def m1(x,y):\n",
    "        print(x+y)\n",
    "        print('some method')\n",
    "t=test()\n",
    "test.m1(4,5)"
   ]
  },
  {
   "cell_type": "markdown",
   "metadata": {},
   "source": [
    "## so in above class we declare one method and we didnt mention any decorator so it might be instance method or static.\n",
    "## and then i am calling that method by object so that method will be instance method.\n",
    "## and in that instance method we must have pass self thats why it gives error"
   ]
  },
  {
   "cell_type": "code",
   "execution_count": 10,
   "metadata": {},
   "outputs": [
    {
     "name": "stdout",
     "output_type": "stream",
     "text": [
      "some method\n"
     ]
    }
   ],
   "source": [
    "class test:\n",
    "    \n",
    "    def m1():\n",
    "        print('some method')\n",
    "t=test()\n",
    "test.m1()\n",
    "# here i called this method by using class name so it is now static method and static method we can delare without any\n",
    "# variable."
   ]
  },
  {
   "cell_type": "markdown",
   "metadata": {},
   "source": [
    "# but same code if i write like that"
   ]
  },
  {
   "cell_type": "code",
   "execution_count": 8,
   "metadata": {},
   "outputs": [
    {
     "name": "stdout",
     "output_type": "stream",
     "text": [
      "some method\n"
     ]
    }
   ],
   "source": [
    "class test:\n",
    "    @staticmethod\n",
    "    def m1():\n",
    "        print('some method')\n",
    "t=test()\n",
    "test.m1()\n",
    "# coz we can call static method by object or class name both so we didnt get any output."
   ]
  },
  {
   "cell_type": "code",
   "execution_count": 10,
   "metadata": {
    "scrolled": true
   },
   "outputs": [
    {
     "name": "stdout",
     "output_type": "stream",
     "text": [
      "employee number: 732\n",
      "employee name: ved\n",
      "employee salary: 30000\n",
      "**************************************************\n",
      "employee number: 732\n",
      "employee name: ved\n",
      "employee salary: 40000\n",
      "**************************************************\n"
     ]
    }
   ],
   "source": [
    "class employee:\n",
    "    \n",
    "    def __init__(self,eno,ename,esal):\n",
    "        self.eno=eno\n",
    "        self.ename=ename\n",
    "        self.esal=esal\n",
    "        \n",
    "    def display(self):\n",
    "        print('employee number:',self.eno)\n",
    "        print('employee name:',self.ename)\n",
    "        print('employee salary:',self.esal)\n",
    "        print('*'*50)\n",
    "        \n",
    "class test:\n",
    "    \n",
    "    def modify(emp):             # this is static method coz we are not using 'self' and we are not using any instance\n",
    "        emp.esal=emp.esal+10000  # variable of test class 'esal' is instance method of empoyee class.\n",
    "        emp.display()\n",
    "\n",
    "        \n",
    "e = employee(732,'ved',30000)\n",
    "\n",
    "e.display()\n",
    "\n",
    "test.modify(e) # emp is same as e\n"
   ]
  },
  {
   "cell_type": "markdown",
   "metadata": {},
   "source": [
    "# here we are accessing variable of employee class from test class."
   ]
  },
  {
   "cell_type": "markdown",
   "metadata": {},
   "source": [
    "## this is the way we can acess member of one class to another class"
   ]
  },
  {
   "cell_type": "markdown",
   "metadata": {},
   "source": [
    "# concept of inner class:"
   ]
  },
  {
   "cell_type": "markdown",
   "metadata": {},
   "source": [
    "### the class which is declare inside another class is called inner class.\n",
    "### when we should go for the inner classes ?\n",
    "### without existing one type of object f there is no chance of existing another type of object then we should go for\n",
    "#### inner classes"
   ]
  },
  {
   "cell_type": "markdown",
   "metadata": {},
   "source": [
    "### lets understand we have one car and engine without existing car there is no use of engine so eengine is inner part of car.\n",
    "### As we buy car engine will come automatically.\n",
    "### so engine should be part of car independent engine is no sense."
   ]
  },
  {
   "cell_type": "markdown",
   "metadata": {},
   "source": [
    "## lets another example there is a university in that several branches are there like(mech,cse,it,ece,eee)\n",
    "## so here department should be part of university without existing university there is no chance of existing branch.\n",
    "## so here departament is inner class of university."
   ]
  },
  {
   "cell_type": "markdown",
   "metadata": {},
   "source": [
    "# this inner concept of class is not present in java."
   ]
  },
  {
   "cell_type": "code",
   "execution_count": 12,
   "metadata": {
    "scrolled": true
   },
   "outputs": [
    {
     "name": "stdout",
     "output_type": "stream",
     "text": [
      "outer class object creation...\n",
      "inner class object creation...\n",
      "inner class method\n",
      "* * * * * * * * * * * * * * * * * * * * \n",
      "outer class object creation...\n",
      "inner class object creation...\n",
      "inner class method\n",
      "outer class object creation...\n",
      "outer class method\n",
      "* * * * * * * * * * * * * * * * * * * * \n",
      "outer class object creation...\n",
      "inner class object creation...\n",
      "inner class method\n"
     ]
    }
   ],
   "source": [
    "class outer:\n",
    "    def __init__(self):\n",
    "        print('outer class object creation...')\n",
    "        \n",
    "    def omethod(self):\n",
    "        print('outer class method')\n",
    "        \n",
    "    class inner:\n",
    "        def __init__(self):\n",
    "            print('inner class object creation...')\n",
    "            \n",
    "        def m1(self):\n",
    "            print('inner class method')\n",
    "\n",
    "o=outer()   # here we create outer object\n",
    "i=o.inner() # by using outer object we create inner object.\n",
    "i.m1()    # by using that inner object we call inner method.\n",
    "\n",
    "print('* '*20)\n",
    "i = outer().inner() # here first we are creating outer object then inner object\n",
    "i.m1()              # by using that inner object we are calling inner method.\n",
    "\n",
    "\n",
    "outer().omethod()\n",
    "\n",
    "print('* '*20)\n",
    "outer().inner().m1()    #like this also we can acess the inner method.(here also first iuter obj then inner obj then m1)"
   ]
  },
  {
   "cell_type": "markdown",
   "metadata": {},
   "source": [
    "## now lets understand the step\n",
    "## first we have to create outer class object .first university object creation.\n",
    "## by using outer class object we create inner classs object then we will call inner method. then we can call branch."
   ]
  },
  {
   "cell_type": "code",
   "execution_count": 13,
   "metadata": {},
   "outputs": [
    {
     "name": "stdout",
     "output_type": "stream",
     "text": [
      "Name : ved\n",
      "DOB = 25-7-1991\n"
     ]
    }
   ],
   "source": [
    "class person:\n",
    "    def __init__(self):\n",
    "        self.name =': ved'  \n",
    "        self.dob = self.DOB() \n",
    "        \n",
    "    def display(self):\n",
    "        print('Name',self.name) \n",
    "        self.dob.display()      \n",
    "        \n",
    "        \n",
    "    class DOB:\n",
    "        def __init__(self):\n",
    "            self.dd=25 #dd=25\n",
    "            self.mm=7  #mm=7\n",
    "            self.yyyy=1991  # yyyy=1991\n",
    "            \n",
    "        def display(self):\n",
    "            print('DOB = {}-{}-{}'.format(self.dd,self.mm,self.yyyy))\n",
    "            \n",
    "p = person() # i am creating object of class person so constructor will excute\n",
    "p.display()"
   ]
  },
  {
   "cell_type": "markdown",
   "metadata": {},
   "source": [
    "### As i write p=person() constructor of person class will excute and while excuting person constructor\n",
    "### the object og DOB() and refrence variable also created so class DOB constructor also excuted.\n",
    "### and as we called p.display() function in that we also called dob.display,dob is refrence variable of class DOB.\n",
    "### So display method of class DOB also excute."
   ]
  },
  {
   "cell_type": "code",
   "execution_count": 44,
   "metadata": {},
   "outputs": [
    {
     "name": "stdout",
     "output_type": "stream",
     "text": [
      "name ved\n",
      "date of birth :25/7/1991\n"
     ]
    }
   ],
   "source": [
    "class person:\n",
    "    def __init__(self,name,dd,mm,yyyy):\n",
    "        self.name=name\n",
    "        self.dob=self.DOB(dd,mm,yyyy)\n",
    "        \n",
    "    def display(self):\n",
    "        print('name',self.name)\n",
    "        self.dob.display()\n",
    "        \n",
    "    class DOB:\n",
    "        def __init__(self,dd,mm,yyyy):\n",
    "            self.dd=dd\n",
    "            self.mm=mm\n",
    "            self.yyyy=yyyy\n",
    "            \n",
    "        def display(self):\n",
    "            print('date of birth :{}/{}/{}'.format(self.dd,self.mm,self.yyyy))\n",
    "            \n",
    "p=person('ved',25,7,1991)\n",
    "p.display()"
   ]
  },
  {
   "cell_type": "code",
   "execution_count": 100,
   "metadata": {},
   "outputs": [
    {
     "name": "stdout",
     "output_type": "stream",
     "text": [
      "talking....\n",
      "thinking...\n"
     ]
    }
   ],
   "source": [
    "class human:\n",
    "    def __init__(self):\n",
    "        self.name='ved'\n",
    "        self.hd=self.head()\n",
    "        \n",
    "        \n",
    "    def display(self):\n",
    "        print('name',self.name)\n",
    "        self.hd.talk()\n",
    "        self.hd.brain.think()\n",
    "        \n",
    "        \n",
    "    class head:\n",
    "        def __init__(self):\n",
    "            self.brain=self.brain()\n",
    "            \n",
    "        def talk(self):\n",
    "            print('talking....')\n",
    "            \n",
    "        class brain:\n",
    "            def think(self):\n",
    "                print('thinking...')\n",
    "                \n",
    "                \n",
    "h=human()\n",
    "h.display()"
   ]
  },
  {
   "cell_type": "code",
   "execution_count": 15,
   "metadata": {},
   "outputs": [
    {
     "name": "stdout",
     "output_type": "stream",
     "text": [
      "fist argument is  10\n",
      "second argument is  20\n",
      "sum of argument is  30\n",
      "product of argument is  200\n",
      "* * * * * * * * * * * * * * * * * * * * \n",
      "fist argument is  100\n",
      "second argument is  200\n",
      "sum of argument is  300\n",
      "product of argument is  20000\n",
      "* * * * * * * * * * * * * * * * * * * * \n"
     ]
    }
   ],
   "source": [
    "class test:\n",
    "    def m1(self):\n",
    "        def sum(a,b):\n",
    "            print('fist argument is ',a)\n",
    "            print('second argument is ',b)\n",
    "            print('sum of argument is ',a+b)\n",
    "            print('product of argument is ',a*b)\n",
    "            print('* '*20)\n",
    "            \n",
    "        sum(10,20)\n",
    "        sum(100,200)\n",
    "        \n",
    "t=test()\n",
    "t.m1()"
   ]
  },
  {
   "cell_type": "markdown",
   "metadata": {},
   "source": [
    "## garbage collector"
   ]
  },
  {
   "cell_type": "markdown",
   "metadata": {},
   "source": [
    "### what is difference between ' del t1 ' and ' t1=None ' ?"
   ]
  },
  {
   "cell_type": "markdown",
   "metadata": {},
   "source": [
    "# del t1 ---> means t1 is deleted completely\n",
    "# t1=None---> means t1 is not anymore available for refrence variable and ready for garbage collection."
   ]
  },
  {
   "cell_type": "markdown",
   "metadata": {},
   "source": [
    "## after writing del t1 you cannot use t1 coz its permanently delted but t1=none means that variable is not avalable\n",
    "## for particular object"
   ]
  },
  {
   "cell_type": "markdown",
   "metadata": {},
   "source": [
    "## why we need garbage collector coz user always show lazy behaviour for deletion of unwanted objects\n",
    "## thats create memory issue so garbage collector which is always running in the backside and it will destroy\n",
    "## useless objects which is garbage collector now lets see example"
   ]
  },
  {
   "cell_type": "markdown",
   "metadata": {},
   "source": [
    "## if an object doesnt conatain any refrence variable then that object is eligible for garbage collection."
   ]
  },
  {
   "cell_type": "markdown",
   "metadata": {},
   "source": [
    "# based on our requirement we can enable and disable the garbage collector"
   ]
  },
  {
   "cell_type": "markdown",
   "metadata": {},
   "source": [
    "### how can we check garbage collector is enable or disable for that one module is gc\n",
    "### gc.isenabled()  will tell it is enable or not?\n",
    "### gc.disable() to disable garbage collector\n",
    "### gc.enable() to enable garbage collector.\n",
    "#### example on garbage collector"
   ]
  },
  {
   "cell_type": "code",
   "execution_count": 16,
   "metadata": {},
   "outputs": [
    {
     "name": "stdout",
     "output_type": "stream",
     "text": [
      "True\n"
     ]
    }
   ],
   "source": [
    "# by default garbage collector is enable\n",
    "import gc\n",
    "print(gc.isenabled())"
   ]
  },
  {
   "cell_type": "code",
   "execution_count": 17,
   "metadata": {},
   "outputs": [
    {
     "name": "stdout",
     "output_type": "stream",
     "text": [
      "False\n"
     ]
    }
   ],
   "source": [
    "# if i dont want garbage collector\n",
    "gc.disable()\n",
    "print(gc.isenabled())"
   ]
  },
  {
   "cell_type": "code",
   "execution_count": 18,
   "metadata": {},
   "outputs": [
    {
     "name": "stdout",
     "output_type": "stream",
     "text": [
      "True\n"
     ]
    }
   ],
   "source": [
    "gc.enable()\n",
    "print(gc.isenabled())"
   ]
  },
  {
   "cell_type": "markdown",
   "metadata": {},
   "source": [
    "# destructor\n"
   ]
  },
  {
   "cell_type": "code",
   "execution_count": 57,
   "metadata": {},
   "outputs": [],
   "source": [
    "#__del__(self)\n",
    "t1 = test()\n",
    "t1=None"
   ]
  },
  {
   "cell_type": "markdown",
   "metadata": {},
   "source": [
    "### now lets understand if refrence variable is no more available for any object then that object will elgible or\n",
    "### ready for the garbage collector that garbage collector will come  to distroy that object but before destroying\n",
    "### that object, garbage collector will ask to object is there any last wish or any work you have,then object will \n",
    "### tell yes i have some databse connection and network connection kindly close that and then kill me.\n",
    "### then garbage collector will call destructor to close all the connection of that object.\n",
    "### garbage collector will call destructor automatically.(to peform cleanup activity.)"
   ]
  },
  {
   "cell_type": "code",
   "execution_count": 1,
   "metadata": {},
   "outputs": [
    {
     "name": "stdout",
     "output_type": "stream",
     "text": [
      "object initilization\n",
      "fulfilling last wish and performing cleanup activity\n",
      "end of application\n"
     ]
    }
   ],
   "source": [
    "import time\n",
    "class test:\n",
    "    def __init__(self):\n",
    "        print('object initilization')\n",
    "        \n",
    "    def __del__(self):\n",
    "        print('fulfilling last wish and performing cleanup activity')\n",
    "        \n",
    "    \n",
    "t1=test()  # here constructor excute and object initilization.\n",
    "# now i want to make object avaliable for garbage collector how can i do that t1=None\n",
    "t1=None  # here refrence variable is equal None so its availabel for garbage collector and __del__(self) will excute.\n",
    "time.sleep(10)\n",
    "print('end of application')"
   ]
  },
  {
   "cell_type": "markdown",
   "metadata": {},
   "source": [
    "# whether you are enabling object for garbage collector or not after cmpeletion of any program garbage collector will\n",
    "# distory the every objects,G.C will destructor and destroy all objects.\n",
    "#### example"
   ]
  },
  {
   "cell_type": "code",
   "execution_count": 3,
   "metadata": {},
   "outputs": [
    {
     "name": "stdout",
     "output_type": "stream",
     "text": [
      "object initilization\n",
      "fulfilling last wish and performing cleanup activity...\n",
      "object initilization\n",
      "fulfilling last wish and performing cleanup activity...\n",
      "end of application\n"
     ]
    }
   ],
   "source": [
    "import time\n",
    "class test:\n",
    "    def __init__(self):\n",
    "        print('object initilization')\n",
    "        \n",
    "    def __del__(self):\n",
    "        print('fulfilling last wish and performing cleanup activity...')\n",
    "        \n",
    "    \n",
    "t1=test() \n",
    "t2=test()\n",
    "print('end of application')\n",
    "time.sleep(10)"
   ]
  },
  {
   "cell_type": "markdown",
   "metadata": {},
   "source": [
    "# here in above program we can see that i didnt called GC nd destructor but as the scope of code over\n",
    "# automatically G.C calls destructor and it deletd all objects."
   ]
  },
  {
   "cell_type": "code",
   "execution_count": 1,
   "metadata": {},
   "outputs": [
    {
     "name": "stdout",
     "output_type": "stream",
     "text": [
      "object initilization\n",
      "<__main__.test object at 0x0000022FF4181860>\n",
      "fulfilling last wish and performing cleanup activity\n",
      "None\n"
     ]
    }
   ],
   "source": [
    "import time\n",
    "class test:\n",
    "    def __init__(self):\n",
    "        print('object initilization')\n",
    "        \n",
    "    def __del__(self):\n",
    "        print('fulfilling last wish and performing cleanup activity')\n",
    "        \n",
    "    \n",
    "t1=test()\n",
    "print(t1)\n",
    "t1=None  \n",
    "time.sleep(10)\n",
    "print(t1)"
   ]
  },
  {
   "cell_type": "code",
   "execution_count": 46,
   "metadata": {},
   "outputs": [
    {
     "name": "stdout",
     "output_type": "stream",
     "text": [
      "object initilization\n",
      "fulfilling last wish and performing cleanup activity\n"
     ]
    },
    {
     "ename": "NameError",
     "evalue": "name 't1' is not defined",
     "output_type": "error",
     "traceback": [
      "\u001b[1;31m---------------------------------------------------------------------------\u001b[0m",
      "\u001b[1;31mNameError\u001b[0m                                 Traceback (most recent call last)",
      "\u001b[1;32m<ipython-input-46-b81e34d19d8d>\u001b[0m in \u001b[0;36m<module>\u001b[1;34m\u001b[0m\n\u001b[0;32m     12\u001b[0m \u001b[1;32mdel\u001b[0m \u001b[0mt1\u001b[0m\u001b[1;33m\u001b[0m\u001b[1;33m\u001b[0m\u001b[0m\n\u001b[0;32m     13\u001b[0m \u001b[0mtime\u001b[0m\u001b[1;33m.\u001b[0m\u001b[0msleep\u001b[0m\u001b[1;33m(\u001b[0m\u001b[1;36m10\u001b[0m\u001b[1;33m)\u001b[0m\u001b[1;33m\u001b[0m\u001b[1;33m\u001b[0m\u001b[0m\n\u001b[1;32m---> 14\u001b[1;33m \u001b[0mprint\u001b[0m\u001b[1;33m(\u001b[0m\u001b[0mt1\u001b[0m\u001b[1;33m)\u001b[0m\u001b[1;33m\u001b[0m\u001b[1;33m\u001b[0m\u001b[0m\n\u001b[0m",
      "\u001b[1;31mNameError\u001b[0m: name 't1' is not defined"
     ]
    }
   ],
   "source": [
    "import time\n",
    "class test:\n",
    "    def __init__(self):\n",
    "        print('object initilization')\n",
    "        \n",
    "    def __del__(self):\n",
    "        print('fulfilling last wish and performing cleanup activity')\n",
    "        \n",
    "    \n",
    "t1=test() \n",
    "time.sleep(10)\n",
    "del t1\n",
    "time.sleep(10)\n",
    "print(t1)"
   ]
  },
  {
   "cell_type": "markdown",
   "metadata": {},
   "source": [
    "### in above code we can see the diff between t1=none and del t1\n",
    "### when we making t1=None means there is no refrence object of that t1 but t1 is present  with none value.\n",
    "### but del t1 means we are deleting t1 so we got error t1 is not defined."
   ]
  },
  {
   "cell_type": "markdown",
   "metadata": {},
   "source": [
    "# if we disable G.C then still garbage collector is going to call destructor if object is eligible for destructor.\n",
    "#### example"
   ]
  },
  {
   "cell_type": "code",
   "execution_count": 2,
   "metadata": {},
   "outputs": [
    {
     "name": "stdout",
     "output_type": "stream",
     "text": [
      "False\n",
      "object initilization....\n",
      "fulfilling last wish and performing cleanup activity..\n",
      "end of application\n",
      "None\n"
     ]
    }
   ],
   "source": [
    "import time\n",
    "import gc\n",
    "class test:\n",
    "    def __init__(self):\n",
    "        print('object initilization....')\n",
    "        \n",
    "    def __del__(self):\n",
    "        print('fulfilling last wish and performing cleanup activity..')\n",
    "        \n",
    "gc.disable()\n",
    "print(gc.isenabled())\n",
    "t1=test()\n",
    "t1=None\n",
    "time.sleep(15)\n",
    "print('end of application')\n",
    "print(t1)\n",
    "# here in output we can see we disable GC but still it calls destructor to destroy no scope objects like t1."
   ]
  },
  {
   "cell_type": "markdown",
   "metadata": {},
   "source": [
    "#### the purpose of destructor is to perform cleanup activities before destroying an objects.\n",
    "#### GC is responsible for deletion."
   ]
  },
  {
   "cell_type": "code",
   "execution_count": 3,
   "metadata": {},
   "outputs": [
    {
     "name": "stdout",
     "output_type": "stream",
     "text": [
      "object initilization....\n",
      "after deleting t1 object not destroyed\n",
      "after deleting t2 and t3 object not destroyed\n",
      "fulfilling last wish and performing cleanup activity..\n",
      "end of application\n"
     ]
    }
   ],
   "source": [
    "import time\n",
    "\n",
    "class test:\n",
    "    def __init__(self):\n",
    "        print('object initilization....')\n",
    "        \n",
    "    def __del__(self):\n",
    "        print('fulfilling last wish and performing cleanup activity..')\n",
    "        \n",
    "\n",
    "t1=test()\n",
    "t2=t1\n",
    "t3=t2\n",
    "t4=t3\n",
    "# here for one object i created four refrence variable(t1,t2,t3,t4)\n",
    "# this object is eligible for garbage collector when all four refence variable is equal to None\n",
    "# if any one refrence variable is avalable then this object cant destroy by garbage collector.\n",
    "del t4\n",
    "time.sleep(5)\n",
    "print('after deleting t1 object not destroyed')\n",
    "del t3\n",
    "del t2\n",
    "print('after deleting t2 and t3 object not destroyed')\n",
    "del t1\n",
    "time.sleep(10)\n",
    "print('end of application')"
   ]
  },
  {
   "cell_type": "code",
   "execution_count": 4,
   "metadata": {},
   "outputs": [
    {
     "name": "stdout",
     "output_type": "stream",
     "text": [
      "object initilization....\n",
      "object initilization....\n",
      "object initilization....\n",
      "fulfilling last wish and performing cleanup activity..\n",
      "fulfilling last wish and performing cleanup activity..\n",
      "fulfilling last wish and performing cleanup activity..\n",
      "end of appliaction\n"
     ]
    }
   ],
   "source": [
    "import time\n",
    "\n",
    "class test:\n",
    "    def __init__(self):\n",
    "        print('object initilization....')\n",
    "        \n",
    "    def __del__(self):\n",
    "        print('fulfilling last wish and performing cleanup activity..')\n",
    "        \n",
    "\n",
    "list=[test(),test(),test()]\n",
    "time.sleep(7)\n",
    "list=None\n",
    "time.sleep(7)\n",
    "print('end of appliaction')"
   ]
  },
  {
   "cell_type": "markdown",
   "metadata": {},
   "source": [
    "# if we want to count refrence count for that"
   ]
  },
  {
   "cell_type": "code",
   "execution_count": 5,
   "metadata": {},
   "outputs": [
    {
     "name": "stdout",
     "output_type": "stream",
     "text": [
      "object initilization....\n",
      "5\n"
     ]
    }
   ],
   "source": [
    "import sys\n",
    "class test:\n",
    "    def __init__(self):\n",
    "        print('object initilization....')\n",
    "        \n",
    "t1=test()\n",
    "t2=t1\n",
    "t3=t2\n",
    "t4=t3\n",
    "print(sys.getrefcount(t1))\n",
    "# four refrence variable(t1,t2,t3,t4) and one (self) so total 5 refrence variable for this object(test)."
   ]
  },
  {
   "cell_type": "markdown",
   "metadata": {},
   "source": [
    "# Polymorphism:"
   ]
  },
  {
   "cell_type": "markdown",
   "metadata": {},
   "source": [
    "# ploy means--> many\n",
    "# morphs means -->form\n",
    "#### it means one name but multiple forms(functions)"
   ]
  },
  {
   "cell_type": "markdown",
   "metadata": {},
   "source": [
    "### we are the example of polymorphism \n",
    "### like we are in some other character in front of parents but in different behaviour in outside of home.\n",
    "### like innocent at home and rowdy outside of home,same person with different form it is polymorphism."
   ]
  },
  {
   "cell_type": "markdown",
   "metadata": {},
   "source": [
    "## we will discuss overloading,overriding and duck type philosphy"
   ]
  },
  {
   "cell_type": "markdown",
   "metadata": {},
   "source": [
    "### operator overloading"
   ]
  },
  {
   "cell_type": "code",
   "execution_count": 46,
   "metadata": {},
   "outputs": [
    {
     "name": "stdout",
     "output_type": "stream",
     "text": [
      "30\n",
      "ved dev\n"
     ]
    }
   ],
   "source": [
    "# here plus operator some time act as a airthmetic addition and sometime act as a string conctenation.\n",
    "# this is same operator with different behaviour this is called operator overloading.\n",
    "print(10+20)\n",
    "print('ved '+'dev')"
   ]
  },
  {
   "cell_type": "markdown",
   "metadata": {},
   "source": [
    "### now lets suppose you have to perform deposite in bank,so any one can done money deposite by cash,cheque,dd\n",
    "### so one function deposite and different arguments type so its called overloading(method overloading.)"
   ]
  },
  {
   "cell_type": "code",
   "execution_count": 46,
   "metadata": {},
   "outputs": [
    {
     "name": "stdout",
     "output_type": "stream",
     "text": [
      "<__main__.book object at 0x0000022FF42AD048>\n"
     ]
    },
    {
     "ename": "TypeError",
     "evalue": "unsupported operand type(s) for +: 'book' and 'book'",
     "output_type": "error",
     "traceback": [
      "\u001b[1;31m---------------------------------------------------------------------------\u001b[0m",
      "\u001b[1;31mTypeError\u001b[0m                                 Traceback (most recent call last)",
      "\u001b[1;32m<ipython-input-46-8d17368888f4>\u001b[0m in \u001b[0;36m<module>\u001b[1;34m\u001b[0m\n\u001b[0;32m      8\u001b[0m \u001b[0mb2\u001b[0m\u001b[1;33m=\u001b[0m\u001b[0mbook\u001b[0m\u001b[1;33m(\u001b[0m\u001b[1;36m200\u001b[0m\u001b[1;33m)\u001b[0m\u001b[1;33m\u001b[0m\u001b[1;33m\u001b[0m\u001b[0m\n\u001b[0;32m      9\u001b[0m \u001b[0mprint\u001b[0m\u001b[1;33m(\u001b[0m\u001b[0mb1\u001b[0m\u001b[1;33m)\u001b[0m\u001b[1;33m\u001b[0m\u001b[1;33m\u001b[0m\u001b[0m\n\u001b[1;32m---> 10\u001b[1;33m \u001b[0mprint\u001b[0m\u001b[1;33m(\u001b[0m\u001b[0mb1\u001b[0m\u001b[1;33m+\u001b[0m\u001b[0mb2\u001b[0m\u001b[1;33m)\u001b[0m\u001b[1;33m\u001b[0m\u001b[1;33m\u001b[0m\u001b[0m\n\u001b[0m",
      "\u001b[1;31mTypeError\u001b[0m: unsupported operand type(s) for +: 'book' and 'book'"
     ]
    }
   ],
   "source": [
    "# example of operator over-loading\n",
    "# we have to use magic method for operator overloading.\n",
    "class book:\n",
    "    def __init__(self,pages):\n",
    "        self.pages=pages\n",
    "        \n",
    "b1=book(100)\n",
    "b2=book(200)\n",
    "print(b1)\n",
    "print(b1+b2)"
   ]
  },
  {
   "cell_type": "code",
   "execution_count": 54,
   "metadata": {},
   "outputs": [
    {
     "name": "stdout",
     "output_type": "stream",
     "text": [
      "300\n"
     ]
    }
   ],
   "source": [
    "# for operator overloading we have to write like this,with magic method.\n",
    "# we can use plus operator for overloading coz we are adding book objects. we cant add directly.\n",
    "# plus operator only using for int object but now we can use it for our own object by using magic method.\n",
    "# here b1 and b2 are book class object and we are adding and getting integer value.\n",
    "\n",
    "class book:\n",
    "    def __init__(self,pages):\n",
    "        self.pages=pages\n",
    "        \n",
    "    def __add__(self,other):       # magic method(b1 is self,b2 is other)\n",
    "        #print(other.pages)\n",
    "        #print(self.pages)\n",
    "        \n",
    "        return self.pages+other.pages\n",
    "\n",
    "        \n",
    "b1=book(100)\n",
    "b2=book(200)\n",
    "\n",
    "print(b1+b2)"
   ]
  },
  {
   "cell_type": "code",
   "execution_count": 60,
   "metadata": {
    "scrolled": true
   },
   "outputs": [
    {
     "name": "stdout",
     "output_type": "stream",
     "text": [
      "-500\n"
     ]
    }
   ],
   "source": [
    "class book:\n",
    "    def __init__(self,pages):\n",
    "        self.pages=pages\n",
    "        \n",
    "    def __sub__(self,other):       # magic method(b1 is self,b2 is other)\n",
    "        #print(other.pages)\n",
    "        return self.pages-other.pages\n",
    "        \n",
    "b1=book(100)\n",
    "b2=book(200)\n",
    "b3=book(700)\n",
    "\n",
    "\n",
    "#print(b1+b2)\n",
    "#print(b1+b3)\n",
    "print(b2-b3)\n",
    "#print(b1-b2)  # for using negative we must decalre magic method for negative like that for every operator magic method."
   ]
  },
  {
   "cell_type": "code",
   "execution_count": 84,
   "metadata": {},
   "outputs": [
    {
     "name": "stdout",
     "output_type": "stream",
     "text": [
      "the number of pages:100\n",
      "the number of pages:200\n",
      "300\n"
     ]
    }
   ],
   "source": [
    "class book:\n",
    "    def __init__(self,pages):\n",
    "        self.pages=pages\n",
    "        \n",
    "    def __str__(self):\n",
    "        return 'the number of pages:'+str(self.pages)\n",
    "    \n",
    "    def __repr__(self):\n",
    "        return self.pages\n",
    "        \n",
    "b1=book(100)\n",
    "b2=book(200)\n",
    "# tell me the output is it will work or not.\n",
    "# if i want to print b1 and output should 100 what we have to do for that.\n",
    "# this str we have to decalre when we have to print the class,object independently.\n",
    "# and it will call automatically as you print objects independetly.\n",
    "# if here you want to print b1+b2 then you will declare magic method of addition.\n",
    "print(b1)\n",
    "print(b2)\n",
    "#print(b1+b2)\n",
    "print(b1.__repr__() + b2.__repr__())"
   ]
  },
  {
   "cell_type": "code",
   "execution_count": 71,
   "metadata": {},
   "outputs": [
    {
     "name": "stdout",
     "output_type": "stream",
     "text": [
      "500\n",
      "100\n",
      "60000\n"
     ]
    }
   ],
   "source": [
    "class book:\n",
    "    def __init__(self,pages):\n",
    "        self.pages=pages\n",
    "        \n",
    "    def __add__(self,other):       # magic method(b1 is self,b2 is other)\n",
    "        return self.pages+other.pages\n",
    "    \n",
    "    def __sub__(self,other):       \n",
    "        return self.pages-other.pages\n",
    "    \n",
    "    def __mul__(self,other):       \n",
    "        return self.pages*other.pages\n",
    "    \n",
    "        \n",
    "b1=book(300)\n",
    "b2=book(200)\n",
    "b3=book(500)\n",
    "print(b1+b2)\n",
    "print(b1-b2)\n",
    "print(b1*b2)\n",
    "#print(b1+b2+b3) # here you will get error coz b1 and b2 return type is int but b3 is book type.\n",
    "# so how to handle this."
   ]
  },
  {
   "cell_type": "code",
   "execution_count": 73,
   "metadata": {},
   "outputs": [
    {
     "name": "stdout",
     "output_type": "stream",
     "text": [
      "the number of pages:2100\n"
     ]
    }
   ],
   "source": [
    "# whenever we will write plus(+) operator then __add__(self,other) will called.\n",
    "class book:\n",
    "    def __init__(self,pages):\n",
    "        self.pages=pages\n",
    "        \n",
    "    def __str__(self):      # it will only called when we will print rerence variable like print(b1)\n",
    "        return 'the number of pages:'+str(self.pages)\n",
    "    \n",
    "    def __add__(self,other):\n",
    "        total = self.pages + other.pages  # here self=200,other=400\n",
    "        b=book(total)            # again we are creating object for class with b object now total=600 which is self\n",
    "        return b                 # then the b3 object other=500 and self is 600 so again it will add and return the value\n",
    "    \n",
    "b1=book(200)\n",
    "b2=book(400)\n",
    "b3=book(500)\n",
    "b4=book(1000)\n",
    "\n",
    "print(b1+b2+b3+b4)  # after writing this __add__ method will called and its return type of this is whatever return type of __add__\n",
    "#print(b1)        # whenever we are printing object refrence then __str__ will be callled.\n",
    "#print(b1+b2)"
   ]
  },
  {
   "cell_type": "code",
   "execution_count": 74,
   "metadata": {},
   "outputs": [
    {
     "ename": "TypeError",
     "evalue": "'<' not supported between instances of 'student' and 'student'",
     "output_type": "error",
     "traceback": [
      "\u001b[1;31m---------------------------------------------------------------------------\u001b[0m",
      "\u001b[1;31mTypeError\u001b[0m                                 Traceback (most recent call last)",
      "\u001b[1;32m<ipython-input-74-614c232acdbc>\u001b[0m in \u001b[0;36m<module>\u001b[1;34m\u001b[0m\n\u001b[0;32m      9\u001b[0m \u001b[0ms1\u001b[0m\u001b[1;33m=\u001b[0m\u001b[0mstudent\u001b[0m\u001b[1;33m(\u001b[0m\u001b[1;34m'ved'\u001b[0m\u001b[1;33m,\u001b[0m\u001b[1;36m76\u001b[0m\u001b[1;33m)\u001b[0m\u001b[1;33m\u001b[0m\u001b[1;33m\u001b[0m\u001b[0m\n\u001b[0;32m     10\u001b[0m \u001b[0ms2\u001b[0m\u001b[1;33m=\u001b[0m\u001b[0mstudent\u001b[0m\u001b[1;33m(\u001b[0m\u001b[1;34m'ravi'\u001b[0m\u001b[1;33m,\u001b[0m\u001b[1;36m87\u001b[0m\u001b[1;33m)\u001b[0m\u001b[1;33m\u001b[0m\u001b[1;33m\u001b[0m\u001b[0m\n\u001b[1;32m---> 11\u001b[1;33m \u001b[0mprint\u001b[0m\u001b[1;33m(\u001b[0m\u001b[0ms1\u001b[0m\u001b[1;33m<\u001b[0m\u001b[0ms2\u001b[0m\u001b[1;33m)\u001b[0m\u001b[1;33m\u001b[0m\u001b[1;33m\u001b[0m\u001b[0m\n\u001b[0m",
      "\u001b[1;31mTypeError\u001b[0m: '<' not supported between instances of 'student' and 'student'"
     ]
    }
   ],
   "source": [
    "# operator overloading of less then equal to.\n",
    "# so what we have to do for that.\n",
    "class student:\n",
    "    def __init__(self,name,marks):\n",
    "        self.name=name\n",
    "        self.marks=marks\n",
    "        \n",
    "    \n",
    "s1=student('ved',76)\n",
    "s2=student('ravi',87)\n",
    "print(s1<s2)"
   ]
  },
  {
   "cell_type": "code",
   "execution_count": 88,
   "metadata": {},
   "outputs": [
    {
     "name": "stdout",
     "output_type": "stream",
     "text": [
      "False\n",
      "True\n",
      "False\n"
     ]
    }
   ],
   "source": [
    "# we can overload any operator,by using magic methods.\n",
    "class student:\n",
    "    def __init__(self,name,marks):\n",
    "        self.name=name\n",
    "        self.marks=marks\n",
    "        \n",
    "    def __lt__(self,other):\n",
    "        return self.marks<other.marks\n",
    "    \n",
    "    def __repr__(self):\n",
    "        return self.marks\n",
    "        \n",
    "    \n",
    "s1=student('ved',88)\n",
    "s2=student('ravi',87)\n",
    "print(s1<s2)\n",
    "print(s2<s1)\n",
    "\n",
    "print(s1.__repr__() < s2.__repr__())"
   ]
  },
  {
   "cell_type": "code",
   "execution_count": 89,
   "metadata": {},
   "outputs": [
    {
     "name": "stdout",
     "output_type": "stream",
     "text": [
      "False\n",
      "True\n"
     ]
    }
   ],
   "source": [
    "# we can overload any operator,by using magic methods.\n",
    "class student:\n",
    "    def __init__(self,name,marks):\n",
    "        self.name=name\n",
    "        self.marks=marks\n",
    "        \n",
    "    def __lt__(self,other):\n",
    "        return self.marks<other.marks\n",
    "    \n",
    "        \n",
    "    \n",
    "s1=student('ved',88)\n",
    "s2=student('ravi',87)\n",
    "print(s1<s2)\n",
    "print(s2<s1)\n",
    "\n"
   ]
  },
  {
   "cell_type": "code",
   "execution_count": 90,
   "metadata": {},
   "outputs": [
    {
     "ename": "TypeError",
     "evalue": "unsupported operand type(s) for *: 'employee' and 'timesheet'",
     "output_type": "error",
     "traceback": [
      "\u001b[1;31m---------------------------------------------------------------------------\u001b[0m",
      "\u001b[1;31mTypeError\u001b[0m                                 Traceback (most recent call last)",
      "\u001b[1;32m<ipython-input-90-8b64c8575119>\u001b[0m in \u001b[0;36m<module>\u001b[1;34m\u001b[0m\n\u001b[0;32m     13\u001b[0m \u001b[0me\u001b[0m\u001b[1;33m=\u001b[0m\u001b[0memployee\u001b[0m\u001b[1;33m(\u001b[0m\u001b[1;34m'ved'\u001b[0m\u001b[1;33m,\u001b[0m\u001b[1;36m1000\u001b[0m\u001b[1;33m)\u001b[0m\u001b[1;33m\u001b[0m\u001b[1;33m\u001b[0m\u001b[0m\n\u001b[0;32m     14\u001b[0m \u001b[0mt\u001b[0m\u001b[1;33m=\u001b[0m\u001b[0mtimesheet\u001b[0m\u001b[1;33m(\u001b[0m\u001b[1;34m'ved'\u001b[0m\u001b[1;33m,\u001b[0m\u001b[1;36m25\u001b[0m\u001b[1;33m)\u001b[0m\u001b[1;33m\u001b[0m\u001b[1;33m\u001b[0m\u001b[0m\n\u001b[1;32m---> 15\u001b[1;33m \u001b[0mprint\u001b[0m\u001b[1;33m(\u001b[0m\u001b[1;34m'this month salary:'\u001b[0m\u001b[1;33m,\u001b[0m\u001b[0me\u001b[0m\u001b[1;33m*\u001b[0m\u001b[0mt\u001b[0m\u001b[1;33m)\u001b[0m \u001b[1;31m# to find salary we have to multiply salary into no of working days,but we got error\u001b[0m\u001b[1;33m\u001b[0m\u001b[1;33m\u001b[0m\u001b[0m\n\u001b[0m\u001b[0;32m     16\u001b[0m \u001b[1;31m# coz its a object type and we cannot perform multplication\u001b[0m\u001b[1;33m\u001b[0m\u001b[1;33m\u001b[0m\u001b[1;33m\u001b[0m\u001b[0m\n\u001b[0;32m     17\u001b[0m \u001b[1;31m# we have to use magic method.\u001b[0m\u001b[1;33m\u001b[0m\u001b[1;33m\u001b[0m\u001b[1;33m\u001b[0m\u001b[0m\n",
      "\u001b[1;31mTypeError\u001b[0m: unsupported operand type(s) for *: 'employee' and 'timesheet'"
     ]
    }
   ],
   "source": [
    "class employee:\n",
    "    def __init__(self,name,salary):\n",
    "        self.name=name\n",
    "        self.salary=salary\n",
    "        \n",
    "class timesheet:\n",
    "    def __init__(self,name,days):\n",
    "        self.name=name\n",
    "        self.days=days\n",
    "        \n",
    "\n",
    "        \n",
    "e=employee('ved',1000)\n",
    "t=timesheet('ved',25)\n",
    "print('this month salary:',e*t) # to find salary we have to multiply salary into no of working days,but we got error\n",
    "# coz its a object type and we cannot perform multplication\n",
    "# we have to use magic method."
   ]
  },
  {
   "cell_type": "code",
   "execution_count": 91,
   "metadata": {},
   "outputs": [
    {
     "name": "stdout",
     "output_type": "stream",
     "text": [
      "this month salary: 25000\n",
      "<__main__.employee object at 0x0000022FF4337908>\n"
     ]
    }
   ],
   "source": [
    "class employee:\n",
    "    def __init__(self,name,salary):\n",
    "        self.name=name\n",
    "        self.salary=salary\n",
    "        \n",
    "    def __mul__(self,other):\n",
    "        return self.salary*other.days\n",
    "        \n",
    "class timesheet:\n",
    "    def __init__(self,name,days):\n",
    "        self.name=name\n",
    "        self.days=days\n",
    "        \n",
    "\n",
    "        \n",
    "e=employee('ved',1000)\n",
    "t=timesheet('ved',25)\n",
    "print('this month salary:',e*t)\n"
   ]
  },
  {
   "cell_type": "code",
   "execution_count": 13,
   "metadata": {},
   "outputs": [
    {
     "name": "stdout",
     "output_type": "stream",
     "text": [
      "this month salary: 25000\n"
     ]
    }
   ],
   "source": [
    "# we can declare __mul__ in timeshett class but we have to make a little bit changes,according to values.\n",
    "# and on place of e*t we have to write t*e\n",
    "class employee:\n",
    "    def __init__(self,name,salary):\n",
    "        self.name=name\n",
    "        self.salary=salary\n",
    "        \n",
    "        \n",
    "class timesheet:\n",
    "    def __init__(self,name,days):\n",
    "        self.name=name\n",
    "        self.days=days\n",
    "        \n",
    "    def __mul__(self,other):\n",
    "        return self.days*other.salary\n",
    "        \n",
    "\n",
    "        \n",
    "e=employee('ved',1000)\n",
    "t=timesheet('ved',25)\n",
    "print('this month salary:',t*e)"
   ]
  },
  {
   "cell_type": "markdown",
   "metadata": {},
   "source": [
    "## method overloading"
   ]
  },
  {
   "cell_type": "code",
   "execution_count": 17,
   "metadata": {},
   "outputs": [
    {
     "name": "stdout",
     "output_type": "stream",
     "text": [
      "10\n",
      "ved\n",
      "10.5\n",
      "(2+3j)\n"
     ]
    }
   ],
   "source": [
    "class test():\n",
    "    def m1(self,i):\n",
    "        print(i)\n",
    "    \n",
    "t=test()\n",
    "t.m1(10)\n",
    "t.m1('ved')\n",
    "t.m1(10.5)\n",
    "t.m1(2+3j)"
   ]
  },
  {
   "cell_type": "markdown",
   "metadata": {},
   "source": [
    "### here that method work for all data types so how to work with method overload with different number of arguments."
   ]
  },
  {
   "cell_type": "markdown",
   "metadata": {},
   "source": [
    "## for that we have two beautiful concepts.\n",
    "## (1)default arguments.\n",
    "### (2) variable length arguments."
   ]
  },
  {
   "cell_type": "code",
   "execution_count": 5,
   "metadata": {},
   "outputs": [
    {
     "name": "stdout",
     "output_type": "stream",
     "text": [
      "the sum of three numbers is: 60\n",
      "the sum of two numbers is: 30\n",
      "please provide two or three arguments\n"
     ]
    }
   ],
   "source": [
    "class test:\n",
    "    def sum(self,a=None,b=None,c=None):\n",
    "        if a!=None and b !=None and c != None:\n",
    "            print('the sum of three numbers is:',a+b+c)\n",
    "        elif a!= None and b != None:\n",
    "            print('the sum of two numbers is:',a+b)\n",
    "        else:\n",
    "            print('please provide two or three arguments')\n",
    "            \n",
    "t=test()\n",
    "t.sum(10,20,30)\n",
    "t.sum(10,20)\n",
    "t.sum(10)"
   ]
  },
  {
   "cell_type": "code",
   "execution_count": 27,
   "metadata": {},
   "outputs": [
    {
     "name": "stdout",
     "output_type": "stream",
     "text": [
      "the number of items is: 10\n",
      "the number of items is: 30\n",
      "the number of items is: 60\n",
      "the number of items is: 100\n"
     ]
    }
   ],
   "source": [
    "class test:\n",
    "    def sum(self,*a):\n",
    "        total=0\n",
    "        for x in a:\n",
    "            total=total+x\n",
    "        print('the number of items is:',total)\n",
    "        \n",
    "t=test()\n",
    "t.sum(10)\n",
    "t.sum(10,20)\n",
    "t.sum(10,20,30)\n",
    "t.sum(10,20,30,40)\n",
    "# here we can work with different number of arguments so we dont want method overoading"
   ]
  },
  {
   "cell_type": "code",
   "execution_count": 10,
   "metadata": {},
   "outputs": [
    {
     "name": "stdout",
     "output_type": "stream",
     "text": [
      "the result:  ved\n",
      "the result:  ved raju\n",
      "the result:  ved raju shiva\n"
     ]
    }
   ],
   "source": [
    "class test:\n",
    "    def m1(self,*a):\n",
    "        total=''\n",
    "        for x in a:\n",
    "            total=total+' '+x\n",
    "        print('the result:',total)\n",
    "        \n",
    "t=test()\n",
    "t.m1('ved')#ved\n",
    "t.m1('ved','raju')#ved+raju\n",
    "t.m1('ved','raju','shiva')#ved+raju+shiva"
   ]
  },
  {
   "cell_type": "markdown",
   "metadata": {},
   "source": [
    "# if i want to declare multiple methods with same name"
   ]
  },
  {
   "cell_type": "code",
   "execution_count": 13,
   "metadata": {},
   "outputs": [
    {
     "name": "stdout",
     "output_type": "stream",
     "text": [
      "one arg method\n"
     ]
    }
   ],
   "source": [
    "class test:\n",
    "    def m1(self):\n",
    "        print('no arg method')\n",
    "        \n",
    "    def m1(self,x):\n",
    "        print('one arg method')\n",
    "        \n",
    "t=test()\n",
    "t.m1() \n",
    "#t.m1() # here we are getting error coz last method overrided the previous method so in this class we have only m1(self,x) exist.\n",
    "# but how to call both we will understand.\n",
    "# python will only consider the last method"
   ]
  },
  {
   "cell_type": "markdown",
   "metadata": {},
   "source": [
    "### python not required method overloading by using variable lenth arguments.\n",
    "### constructor overloading is also not allowed,lets see how we can deal with"
   ]
  },
  {
   "cell_type": "code",
   "execution_count": 17,
   "metadata": {},
   "outputs": [
    {
     "name": "stdout",
     "output_type": "stream",
     "text": [
      "two arguments\n"
     ]
    }
   ],
   "source": [
    "class demo:\n",
    "    def __init__(self):\n",
    "        print('no argument')\n",
    "        \n",
    "    def __init__(self,a):\n",
    "        print('one arguments')\n",
    "        \n",
    "    def __init__(self,a,b):\n",
    "        print('two arguments')\n",
    "        \n",
    "d=demo(10,20)\n",
    "# constuctor will always consider last one always."
   ]
  },
  {
   "cell_type": "code",
   "execution_count": 18,
   "metadata": {},
   "outputs": [
    {
     "name": "stdout",
     "output_type": "stream",
     "text": [
      "constructor with o|1|2|3 arguments\n",
      "constructor with o|1|2|3 arguments\n",
      "constructor with o|1|2|3 arguments\n",
      "constructor with o|1|2|3 arguments\n"
     ]
    }
   ],
   "source": [
    "# constructor with different argument\n",
    "class test:\n",
    "    def __init__(self,a=None,b=None,c=None):\n",
    "        print('constructor with o|1|2|3 arguments')\n",
    "        \n",
    "t=test()\n",
    "t=test(10)\n",
    "t=test(10,20)\n",
    "t=test(10,20,30)"
   ]
  },
  {
   "cell_type": "code",
   "execution_count": 19,
   "metadata": {},
   "outputs": [
    {
     "name": "stdout",
     "output_type": "stream",
     "text": [
      "constructor with any number of arguments\n",
      "constructor with any number of arguments\n",
      "constructor with any number of arguments\n",
      "constructor with any number of arguments\n"
     ]
    }
   ],
   "source": [
    "# constructor with any number of arguments\n",
    "\n",
    "class test:\n",
    "    def __init__(self,*a):\n",
    "        print('constructor with any number of arguments')\n",
    "        \n",
    "t=test()\n",
    "t=test(10)\n",
    "t=test(10,20,30)\n",
    "t=test(10,20,30,40)"
   ]
  },
  {
   "cell_type": "markdown",
   "metadata": {},
   "source": [
    "### method overriding:\n",
    "### inheritance:"
   ]
  },
  {
   "cell_type": "markdown",
   "metadata": {},
   "source": [
    "### class p:\n",
    "    #### (10 methods)\n",
    "    \n",
    "### class c(p):\n",
    "    #### (5 own and 10 parents methods)"
   ]
  },
  {
   "cell_type": "code",
   "execution_count": 20,
   "metadata": {},
   "outputs": [
    {
     "name": "stdout",
     "output_type": "stream",
     "text": [
      "cash+land+gold+power\n",
      "subbalaxmi\n"
     ]
    }
   ],
   "source": [
    "class parent:\n",
    "    \n",
    "    def property(self):\n",
    "        print('cash+land+gold+power')\n",
    "        \n",
    "    def marry(self):\n",
    "        print('subbalaxmi')\n",
    "        \n",
    "class child(parent):     # here we inherited parent class to child class\n",
    "    pass\n",
    "\n",
    "c=child()\n",
    "c.property() # so we can acess parents method by child object.\n",
    "c.marry()"
   ]
  },
  {
   "cell_type": "markdown",
   "metadata": {},
   "source": [
    "#### now in above example parents gives all property and power to child but lets suppose if child is not agree with \n",
    "#### parents marriage decision he wants to marry with his own wish with another girl."
   ]
  },
  {
   "cell_type": "code",
   "execution_count": 21,
   "metadata": {},
   "outputs": [
    {
     "name": "stdout",
     "output_type": "stream",
     "text": [
      "cash+land+gold+power\n",
      "shradha kapoor...\n"
     ]
    }
   ],
   "source": [
    "# if child wants parents property and dont want parents mariage decision for him.\n",
    "class parent:\n",
    "    def property(self):\n",
    "        print('cash+land+gold+power')\n",
    "        \n",
    "    def marry(self):\n",
    "        print('subbalaxmi')\n",
    "        \n",
    "class child(parent):     # here we inherited parent class to child class\n",
    "    def marry(self):\n",
    "        print('shradha kapoor...')\n",
    "        \n",
    "c=child()\n",
    "c.property()\n",
    "c.marry()   # here child marry method overrided parents marry method."
   ]
  },
  {
   "cell_type": "markdown",
   "metadata": {},
   "source": [
    "### now if a child want to marry from paretns decided girl and own decided girl\n",
    "### it means if same methods are in parents and child and i want to acess both method not overrided.\n",
    "### for that we use super method."
   ]
  },
  {
   "cell_type": "code",
   "execution_count": 22,
   "metadata": {},
   "outputs": [
    {
     "name": "stdout",
     "output_type": "stream",
     "text": [
      "cash+land+gold+power\n",
      "subbalaxmi\n",
      "shradha kapoor...\n"
     ]
    }
   ],
   "source": [
    "class parent:\n",
    "    def property(self):\n",
    "        print('cash+land+gold+power')\n",
    "        \n",
    "    def marry(self):\n",
    "        print('subbalaxmi')\n",
    "        \n",
    "class child(parent):     # here we inherited parent class to child class\n",
    "    def marry(self):\n",
    "        super().marry()\n",
    "        print('shradha kapoor...')\n",
    "        \n",
    "c=child()\n",
    "c.property()\n",
    "c.marry()   # here child marry method overrided parents marry method."
   ]
  },
  {
   "cell_type": "markdown",
   "metadata": {},
   "source": [
    "# tow way to acess one class member to another class\n",
    "## By using Composition(Has-A Relationship)\n",
    "## By using Inheritance(IS-A Relationship)"
   ]
  },
  {
   "cell_type": "markdown",
   "metadata": {},
   "source": [
    "## lets understand---- By using composition(Has-A-relationship)"
   ]
  },
  {
   "cell_type": "markdown",
   "metadata": {},
   "source": [
    "#### no suppose if we want engine class functionality inside car class we will creat object of engine inside car is \n",
    "#### called Has-A-Relationship,and we can say class car has a engine refrence\n",
    "### the biggest advantages is code reusability.\n",
    "### when we decide that we have to go for inner class type coding when a senario like that we want inner class\n",
    "### only in outer class and except no where else then we go for outer or inner class."
   ]
  },
  {
   "cell_type": "code",
   "execution_count": 23,
   "metadata": {},
   "outputs": [
    {
     "name": "stdout",
     "output_type": "stream",
     "text": [
      "employee name: ved\n",
      "employee number: 116\n",
      "employee car info:\n",
      "car name:INNOVA,model:2.5Z and color:Gray\n"
     ]
    }
   ],
   "source": [
    "class car:\n",
    "    def __init__(self,name,model,color):\n",
    "        self.name=name\n",
    "        self.model=model\n",
    "        self.color=color\n",
    "        \n",
    "    def getinfo(self):\n",
    "        print('car name:{},model:{} and color:{}'.format(self.name,self.model,self.color))\n",
    "        \n",
    "class employee:\n",
    "    # suppose this class require car functionality\n",
    "    def __init__(self,ename,eno,car):  # empployee having car refrence.\n",
    "        self.ename=ename\n",
    "        self.eno=eno\n",
    "        self.car=car\n",
    "    def empinfo(self):\n",
    "        print('employee name:',self.ename)\n",
    "        print('employee number:',self.eno)\n",
    "        print('employee car info:')\n",
    "        self.car.getinfo()\n",
    "        \n",
    "c=car('INNOVA','2.5Z','Gray')\n",
    "e=employee('ved',116,c)\n",
    "e.empinfo()"
   ]
  },
  {
   "cell_type": "code",
   "execution_count": null,
   "metadata": {},
   "outputs": [],
   "source": [
    "class x:\n",
    "    def m1()\n",
    "    def m2()\n",
    "    def m3()\n",
    "    def m4()\n",
    "    \n",
    "class y:\n",
    "    x=x()\n",
    "    x.m1()\n",
    "    x.m2()\n",
    "    x.m3()\n",
    "    \n",
    "# here in above example i am creating class x object in class y and in class y we can call class x functions.\n",
    "# above code is for example not excutable code.\n",
    "# this method is called has-A-relationship."
   ]
  },
  {
   "cell_type": "markdown",
   "metadata": {},
   "source": [
    "# INHERITANCE(IS-A-RELATIONSHIP)"
   ]
  },
  {
   "cell_type": "markdown",
   "metadata": {},
   "source": [
    "### Now i dont want to create object in another class and we want to acess another class object.\n",
    "### that can be possible by using inheritance concept"
   ]
  },
  {
   "cell_type": "markdown",
   "metadata": {},
   "source": [
    "### syntax of inheritance"
   ]
  },
  {
   "cell_type": "code",
   "execution_count": 24,
   "metadata": {},
   "outputs": [
    {
     "data": {
      "text/plain": [
       "10"
      ]
     },
     "execution_count": 24,
     "metadata": {},
     "output_type": "execute_result"
    }
   ],
   "source": [
    "class x:\n",
    "    a=10\n",
    "    \n",
    "class y(x): # syntax of in heritance\n",
    "    pass\n",
    "\n",
    "y=y()\n",
    "y.a"
   ]
  },
  {
   "cell_type": "code",
   "execution_count": 1,
   "metadata": {
    "scrolled": true
   },
   "outputs": [
    {
     "name": "stdout",
     "output_type": "stream",
     "text": [
      "parent constructor\n",
      "This is parent class instance method\n",
      "This parent class class-method\n",
      "This parent class static-method\n",
      "888\n"
     ]
    }
   ],
   "source": [
    "class parent:\n",
    "    def m1(self):\n",
    "        print('This is parent class instance method')\n",
    "    \n",
    "    @classmethod\n",
    "    def m2(cls):\n",
    "        print('This parent class class-method')\n",
    "        \n",
    "    @staticmethod\n",
    "    def m3():\n",
    "        print('This parent class static-method')\n",
    "        \n",
    "    def __init__(self):\n",
    "        self.b=888\n",
    "        print('parent constructor')\n",
    "        \n",
    "    def __del__(self):\n",
    "        print('parent distructor....')\n",
    "        \n",
    "class child(parent):   # this is syntax to inherit another class\n",
    "    pass\n",
    "        \n",
    "c=child()\n",
    "c.m1()  # here i created c as child class object but from child object i am acessing parent class methods.\n",
    "c.m2()\n",
    "c.m3()\n",
    "print(c.b)\n",
    "# we can inherit method,constructor and everything we can execept private object we will discuss later it.\n",
    "# constructor can also inherited\n",
    "# instance variable like b we can also inherit.\n",
    "# parents destructor also inherited to the child.(like with property debt of parent will also transfer to child.)\n",
    "# after creating object if we will not acess the method then our refrence variable will be ready for garbage collector\n",
    "# and distructor will also excute and if we are acessing methods then we have to use c=None to acess destructor."
   ]
  },
  {
   "cell_type": "markdown",
   "metadata": {},
   "source": [
    "# lets go for more meaningfull example of inheritance"
   ]
  },
  {
   "cell_type": "code",
   "execution_count": 1,
   "metadata": {},
   "outputs": [
    {
     "name": "stdout",
     "output_type": "stream",
     "text": [
      "child constructor....\n",
      "777\n",
      "10\n",
      "This is child class instance method\n",
      "This child class class-method\n",
      "This child class static-method\n"
     ]
    }
   ],
   "source": [
    "class parent:\n",
    "    a=10\n",
    "    def m1(self):\n",
    "        print('This is parent class instance method')\n",
    "    \n",
    "    @classmethod\n",
    "    def m2(cls):\n",
    "        print('This parent class class-method')\n",
    "        \n",
    "    @staticmethod\n",
    "    def m3():\n",
    "        print('This parent class static-method')\n",
    "        \n",
    "    def __init__(self):\n",
    "        self.b=888\n",
    "        print('parent constructor')\n",
    "        \n",
    "    def __del__(self):\n",
    "        print('parent distructor....')\n",
    "        \n",
    "class child(parent):\n",
    "    a=777\n",
    "    \n",
    "    def __init__(self): \n",
    "        print('child constructor....')\n",
    "        \n",
    "    def __del__(self):  #.\n",
    "        print('child destructor.....')\n",
    "        \n",
    "    def m1(self):\n",
    "        print(super().a)\n",
    "        print('This is child class instance method')\n",
    "        \n",
    "    @classmethod\n",
    "    def m2(cls):\n",
    "        print('This child class class-method')\n",
    "        \n",
    "    @staticmethod\n",
    "    def m3():\n",
    "        print('This child class static-method')\n",
    "c=child()# child constructor\n",
    "print(c.a)\n",
    "c.m1()\n",
    "c.m2()\n",
    "c.m3()\n",
    "#c=None"
   ]
  },
  {
   "cell_type": "code",
   "execution_count": 6,
   "metadata": {},
   "outputs": [
    {
     "name": "stdout",
     "output_type": "stream",
     "text": [
      "constructor\n",
      "destuctor\n"
     ]
    }
   ],
   "source": [
    "class k:\n",
    "    def __init__(self):\n",
    "        print('constructor')\n",
    "        \n",
    "    def __del__(self):\n",
    "        print('destuctor')\n",
    "        \n",
    "j=k()"
   ]
  },
  {
   "cell_type": "markdown",
   "metadata": {},
   "source": [
    "## now if suppose the same method are present in child class and parents class and we want to acess parents class"
   ]
  },
  {
   "cell_type": "markdown",
   "metadata": {},
   "source": [
    "# by using super() method we can acess"
   ]
  },
  {
   "cell_type": "code",
   "execution_count": 2,
   "metadata": {},
   "outputs": [
    {
     "name": "stdout",
     "output_type": "stream",
     "text": [
      "parent constructor\n",
      "child constructor....\n",
      "child destructor.....\n"
     ]
    }
   ],
   "source": [
    "class parent:\n",
    "    a=10\n",
    "    def m1(self):\n",
    "        print('This is parent class instance method')\n",
    "    \n",
    "    @classmethod\n",
    "    def m2(cls):\n",
    "        print('This parent class class-method')\n",
    "        \n",
    "    @staticmethod\n",
    "    def m3():\n",
    "        print('This parent class static-method')\n",
    "        \n",
    "    def __init__(self):\n",
    "        self.b=888\n",
    "        print('parent constructor')\n",
    "        \n",
    "class child(parent):\n",
    "    a=777\n",
    "    def __init__(self): #if constructor in child then child constructor will excute if its not then parents cons excute.\n",
    "        super().__init__()\n",
    "        print('child constructor....')\n",
    "        \n",
    "        \n",
    "    def m1(self):\n",
    "        print('This is child class instance method')\n",
    "        \n",
    "    @classmethod\n",
    "    def m2(cls):\n",
    "        print('This child class class-method')\n",
    "        \n",
    "    @staticmethod\n",
    "    def m3():\n",
    "        print('This child class static-method')\n",
    "\n",
    "\n",
    "c=child()\n",
    "# we can both constructor is excuting but first parents constructor then child constructor."
   ]
  },
  {
   "cell_type": "code",
   "execution_count": 9,
   "metadata": {},
   "outputs": [
    {
     "name": "stdout",
     "output_type": "stream",
     "text": [
      "child constructor....\n",
      "parent constructor\n"
     ]
    }
   ],
   "source": [
    "class parent:\n",
    "    a=10\n",
    "    def m1(self):\n",
    "        print('This is parent class instance method')\n",
    "    \n",
    "    @classmethod\n",
    "    def m2(cls):\n",
    "        print('This parent class class-method')\n",
    "        \n",
    "    @staticmethod\n",
    "    def m3():\n",
    "        print('This parent class static-method')\n",
    "        \n",
    "    def __init__(self):\n",
    "        self.b=888\n",
    "        print('parent constructor')\n",
    "        \n",
    "        \n",
    "class child(parent):\n",
    "    a=777\n",
    "    def __init__(self): #if constructor in child then child constructor will excute if its not then parents cons excute.\n",
    "        print('child constructor....')\n",
    "        super().__init__()\n",
    "        \n",
    "    def m1(self):\n",
    "        print('This is child class instance method')\n",
    "        \n",
    "    @classmethod\n",
    "    def m2(cls):\n",
    "        print('This child class class-method')\n",
    "        \n",
    "    @staticmethod\n",
    "    def m3():\n",
    "        print('This child class static-method')\n",
    "\n",
    "\n",
    "c=child()\n",
    "# here first child constructor then parents constructor. coz we wrote super method after that statment.\n",
    "# even we can acess method also by using super method."
   ]
  },
  {
   "cell_type": "code",
   "execution_count": 10,
   "metadata": {
    "scrolled": true
   },
   "outputs": [
    {
     "name": "stdout",
     "output_type": "stream",
     "text": [
      "child constructor....\n",
      "parent constructor\n",
      "This is parent class instance method\n",
      "This parent class class-method\n",
      "This parent class static-method\n",
      "By super we are acessing parent class variable: 10\n",
      "child class variable acess: 777\n"
     ]
    }
   ],
   "source": [
    "class parent:\n",
    "    a=10\n",
    "    def m1(self):\n",
    "        print('This is parent class instance method')\n",
    "    \n",
    "    @classmethod\n",
    "    def m2(cls):\n",
    "        print('This parent class class-method')\n",
    "        \n",
    "    @staticmethod\n",
    "    def m3():\n",
    "        print('This parent class static-method')\n",
    "        \n",
    "    def __init__(self):\n",
    "        self.b=888\n",
    "        print('parent constructor')\n",
    "        \n",
    "        \n",
    "class child(parent):\n",
    "    a=777\n",
    "    def __init__(self): #if constructor in child then child constructor will excute if its not then parents cons excute.\n",
    "        print('child constructor....')\n",
    "        super().__init__()\n",
    "        super().m1()\n",
    "        super().m2()\n",
    "        super().m3()\n",
    "        print('By super we are acessing parent class variable:',super().a)\n",
    "        print('child class variable acess:',child.a)\n",
    "        \n",
    "    def m1(self):\n",
    "        print('This is child class instance method')\n",
    "        \n",
    "    @classmethod\n",
    "    def m2(cls):\n",
    "        print('This child class class-method')\n",
    "        \n",
    "    @staticmethod\n",
    "    def m3():\n",
    "        print('This child class static-method')\n",
    "\n",
    "\n",
    "c=child()\n",
    "# here first child constructor then parents constructor. coz we wrote super method after that statment.\n",
    "# even we can acess method also by using super method."
   ]
  },
  {
   "cell_type": "markdown",
   "metadata": {},
   "source": [
    "# lets convert in some understanding senario example."
   ]
  },
  {
   "cell_type": "code",
   "execution_count": 4,
   "metadata": {},
   "outputs": [
    {
     "name": "stdout",
     "output_type": "stream",
     "text": [
      "ved 29\n"
     ]
    }
   ],
   "source": [
    "# parents class(person) having two properties name and age.\n",
    "# but child class (software_engineer) having four properties two inherited from parents and then two their own.\n",
    "# if we are inheriting class so in child class constructor we have to mention parent class variable also.\n",
    "# like i mention name and age in child class constructor.\n",
    "class person:\n",
    "    def __init__(self,name,age):\n",
    "        self.name=name\n",
    "        self.age=age\n",
    "        \n",
    "    def eatndrink(self):\n",
    "        print('biryani eating and beer drinking')\n",
    "        \n",
    "    \n",
    "class software_enggineer(person):\n",
    "    def __init__(self,name,age,eno,esal):\n",
    "        self.eno=eno\n",
    "        self.esal=esal\n",
    "\n",
    "        \n",
    "    def work(self):\n",
    "        print('python coding is somthing like drinking chilled beer')\n",
    "        \n",
    "SE=software_enggineer('ved',29,116,10000)\n",
    "print(SE.name,SE.age)\n",
    "# here we are getting error coz we didnt called parent class constructor so we have to call parent class constructor \n",
    "# by using super method in next example."
   ]
  },
  {
   "cell_type": "code",
   "execution_count": 5,
   "metadata": {
    "scrolled": true
   },
   "outputs": [
    {
     "name": "stdout",
     "output_type": "stream",
     "text": [
      "ved 29 116 10000\n",
      "biryani eating and beer drinking\n",
      "python coding is somthing like drinking chilled beer\n"
     ]
    }
   ],
   "source": [
    "# parents class(person) having two properties name and age.\n",
    "# but child class (software_engineer) having four properties two inherited from parents and then two their own.\n",
    "class person:\n",
    "    def __init__(self,name,age):\n",
    "        self.name=name\n",
    "        self.age=age\n",
    "        \n",
    "    def eatndrink(self):\n",
    "        print('biryani eating and beer drinking')\n",
    "        \n",
    "    \n",
    "class software_enggineer(person):\n",
    "    def __init__(self,name,age,eno,esal):\n",
    "        super().__init__(name,age)\n",
    "        self.eno=eno\n",
    "        self.esal=esal\n",
    "        \n",
    "    def work(self):\n",
    "        print('python coding is somthing like drinking chilled beer')\n",
    "        \n",
    "SE=software_enggineer('ved',29,116,10000)\n",
    "print(SE.name,SE.age,SE.eno,SE.esal) \n",
    "SE.eatndrink()\n",
    "SE.work()\n",
    "# now if in future if any class we create and we need these classes properties then we can inherit these properties.\n",
    "# in inheritance if child didnt have constructor parent class constructor will execute automatically."
   ]
  },
  {
   "cell_type": "markdown",
   "metadata": {},
   "source": [
    "## Guess the output"
   ]
  },
  {
   "cell_type": "code",
   "execution_count": 7,
   "metadata": {},
   "outputs": [
    {
     "name": "stdout",
     "output_type": "stream",
     "text": [
      "{}\n",
      "{'x': 20}\n",
      "20\n",
      "777\n"
     ]
    }
   ],
   "source": [
    "#super method only able to acess class method from the parents class it cannot acess instance variable from parent cls.\n",
    "class A:\n",
    "    x=777\n",
    "    def m1(self):\n",
    "        self.x=10\n",
    "        \n",
    "class B(A):\n",
    "    def m1(self):\n",
    "        super().m1()\n",
    "        self.x=20\n",
    "        \n",
    "    def display(self):\n",
    "        print(self.x)\n",
    "        print(super().x)\n",
    "        \n",
    "b=B()\n",
    "print(b.__dict__)\n",
    "b.m1()\n",
    "print(b.__dict__)#20 \n",
    "b.display()#777"
   ]
  },
  {
   "cell_type": "markdown",
   "metadata": {},
   "source": [
    "### Super() only able to acess class level variable from the parents class not the instance variable."
   ]
  },
  {
   "cell_type": "code",
   "execution_count": 6,
   "metadata": {},
   "outputs": [],
   "source": [
    "class P:\n",
    "    x=999\n",
    "    def __init__(self):\n",
    "        self.x=10"
   ]
  },
  {
   "cell_type": "markdown",
   "metadata": {},
   "source": [
    "# ABstract means somthing not complete dictionary meaning"
   ]
  },
  {
   "cell_type": "markdown",
   "metadata": {},
   "source": [
    "- suppose we have method which has only declaration but no implimenatation for the implimentation child class is responsible\n",
    "- such type of method is called abstract method\n",
    "- which we need to declare by using decorator abstractmethod\n",
    "- we have to import abc class"
   ]
  },
  {
   "cell_type": "code",
   "execution_count": 1,
   "metadata": {
    "scrolled": true
   },
   "outputs": [
    {
     "ename": "NameError",
     "evalue": "name 'abstractmethod' is not defined",
     "output_type": "error",
     "traceback": [
      "\u001b[1;31m---------------------------------------------------------------------------\u001b[0m",
      "\u001b[1;31mNameError\u001b[0m                                 Traceback (most recent call last)",
      "\u001b[1;32m<ipython-input-1-23a97898976a>\u001b[0m in \u001b[0;36m<module>\u001b[1;34m\u001b[0m\n\u001b[1;32m----> 1\u001b[1;33m \u001b[1;32mclass\u001b[0m \u001b[0mvehicle\u001b[0m\u001b[1;33m:\u001b[0m\u001b[1;33m\u001b[0m\u001b[1;33m\u001b[0m\u001b[0m\n\u001b[0m\u001b[0;32m      2\u001b[0m     \u001b[1;33m@\u001b[0m\u001b[0mabstractmethod\u001b[0m\u001b[1;33m\u001b[0m\u001b[1;33m\u001b[0m\u001b[0m\n\u001b[0;32m      3\u001b[0m     \u001b[1;32mdef\u001b[0m \u001b[0mgetnoOfwheels\u001b[0m\u001b[1;33m(\u001b[0m\u001b[0mself\u001b[0m\u001b[1;33m)\u001b[0m\u001b[1;33m:\u001b[0m\u001b[1;33m\u001b[0m\u001b[1;33m\u001b[0m\u001b[0m\n\u001b[0;32m      4\u001b[0m         \u001b[1;32mpass\u001b[0m\u001b[1;33m\u001b[0m\u001b[1;33m\u001b[0m\u001b[0m\n",
      "\u001b[1;32m<ipython-input-1-23a97898976a>\u001b[0m in \u001b[0;36mvehicle\u001b[1;34m()\u001b[0m\n\u001b[0;32m      1\u001b[0m \u001b[1;32mclass\u001b[0m \u001b[0mvehicle\u001b[0m\u001b[1;33m:\u001b[0m\u001b[1;33m\u001b[0m\u001b[1;33m\u001b[0m\u001b[0m\n\u001b[1;32m----> 2\u001b[1;33m     \u001b[1;33m@\u001b[0m\u001b[0mabstractmethod\u001b[0m\u001b[1;33m\u001b[0m\u001b[1;33m\u001b[0m\u001b[0m\n\u001b[0m\u001b[0;32m      3\u001b[0m     \u001b[1;32mdef\u001b[0m \u001b[0mgetnoOfwheels\u001b[0m\u001b[1;33m(\u001b[0m\u001b[0mself\u001b[0m\u001b[1;33m)\u001b[0m\u001b[1;33m:\u001b[0m\u001b[1;33m\u001b[0m\u001b[1;33m\u001b[0m\u001b[0m\n\u001b[0;32m      4\u001b[0m         \u001b[1;32mpass\u001b[0m\u001b[1;33m\u001b[0m\u001b[1;33m\u001b[0m\u001b[0m\n",
      "\u001b[1;31mNameError\u001b[0m: name 'abstractmethod' is not defined"
     ]
    }
   ],
   "source": [
    "class vehicle:\n",
    "    @abstractmethod\n",
    "    def getnoOfwheels(self):\n",
    "        pass"
   ]
  },
  {
   "cell_type": "markdown",
   "metadata": {},
   "source": [
    "- now it runs perfectly"
   ]
  },
  {
   "cell_type": "code",
   "execution_count": 2,
   "metadata": {},
   "outputs": [],
   "source": [
    "from abc import *\n",
    "class vehicle:\n",
    "    @abstractmethod\n",
    "    def getnoOfwheels(self):\n",
    "        pass"
   ]
  },
  {
   "cell_type": "markdown",
   "metadata": {},
   "source": [
    "# now above one is abstract method now we will see how to declare abstract class"
   ]
  },
  {
   "cell_type": "markdown",
   "metadata": {},
   "source": [
    "## every class is child class of abstract class"
   ]
  },
  {
   "cell_type": "markdown",
   "metadata": {},
   "source": [
    "## if a class doesnt have proper implimentation is called abstract class like same as abstract method"
   ]
  },
  {
   "cell_type": "code",
   "execution_count": 3,
   "metadata": {},
   "outputs": [],
   "source": [
    "from abc import *\n",
    "class vehicle(ABC):\n",
    "    @abstractmethod\n",
    "    def getnoOfwheels(self):\n",
    "        pass"
   ]
  },
  {
   "cell_type": "code",
   "execution_count": 4,
   "metadata": {},
   "outputs": [
    {
     "name": "stdout",
     "output_type": "stream",
     "text": [
      "abstract method\n"
     ]
    }
   ],
   "source": [
    "from abc import *\n",
    "class vehicle:\n",
    "    @abstractmethod\n",
    "    def getnoOfwheels(self):\n",
    "        print('abstract method')\n",
    "    \n",
    "v=vehicle()\n",
    "v.getnoOfwheels()"
   ]
  },
  {
   "cell_type": "markdown",
   "metadata": {},
   "source": [
    "## if class extend ABC and contain atleast one abstract method then object creation not possible."
   ]
  },
  {
   "cell_type": "code",
   "execution_count": 5,
   "metadata": {},
   "outputs": [
    {
     "ename": "TypeError",
     "evalue": "Can't instantiate abstract class vehicle with abstract methods getnoOfwheels",
     "output_type": "error",
     "traceback": [
      "\u001b[1;31m---------------------------------------------------------------------------\u001b[0m",
      "\u001b[1;31mTypeError\u001b[0m                                 Traceback (most recent call last)",
      "\u001b[1;32m<ipython-input-5-800d79de5683>\u001b[0m in \u001b[0;36m<module>\u001b[1;34m\u001b[0m\n\u001b[0;32m      5\u001b[0m         \u001b[0mprint\u001b[0m\u001b[1;33m(\u001b[0m\u001b[1;34m'abstract method'\u001b[0m\u001b[1;33m)\u001b[0m\u001b[1;33m\u001b[0m\u001b[1;33m\u001b[0m\u001b[0m\n\u001b[0;32m      6\u001b[0m \u001b[1;33m\u001b[0m\u001b[0m\n\u001b[1;32m----> 7\u001b[1;33m \u001b[0mv\u001b[0m\u001b[1;33m=\u001b[0m\u001b[0mvehicle\u001b[0m\u001b[1;33m(\u001b[0m\u001b[1;33m)\u001b[0m\u001b[1;33m\u001b[0m\u001b[1;33m\u001b[0m\u001b[0m\n\u001b[0m",
      "\u001b[1;31mTypeError\u001b[0m: Can't instantiate abstract class vehicle with abstract methods getnoOfwheels"
     ]
    }
   ],
   "source": [
    "from abc import *\n",
    "class vehicle(ABC):\n",
    "    @abstractmethod\n",
    "    def getnoOfwheels(self):\n",
    "        print('abstract method')\n",
    "    \n",
    "v=vehicle()"
   ]
  },
  {
   "cell_type": "markdown",
   "metadata": {},
   "source": [
    "## abstract class can contain abstract and normal method\n",
    "## child class is responsible for proper implimentation of parent class abstract method"
   ]
  },
  {
   "cell_type": "code",
   "execution_count": 6,
   "metadata": {},
   "outputs": [
    {
     "ename": "TypeError",
     "evalue": "Can't instantiate abstract class bus with abstract methods getnoOfwheels",
     "output_type": "error",
     "traceback": [
      "\u001b[1;31m---------------------------------------------------------------------------\u001b[0m",
      "\u001b[1;31mTypeError\u001b[0m                                 Traceback (most recent call last)",
      "\u001b[1;32m<ipython-input-6-4046a339f45e>\u001b[0m in \u001b[0;36m<module>\u001b[1;34m\u001b[0m\n\u001b[0;32m      7\u001b[0m \u001b[1;32mclass\u001b[0m \u001b[0mbus\u001b[0m\u001b[1;33m(\u001b[0m\u001b[0mvehicle\u001b[0m\u001b[1;33m)\u001b[0m\u001b[1;33m:\u001b[0m\u001b[1;33m\u001b[0m\u001b[1;33m\u001b[0m\u001b[0m\n\u001b[0;32m      8\u001b[0m     \u001b[1;32mpass\u001b[0m\u001b[1;33m\u001b[0m\u001b[1;33m\u001b[0m\u001b[0m\n\u001b[1;32m----> 9\u001b[1;33m \u001b[0mb\u001b[0m\u001b[1;33m=\u001b[0m\u001b[0mbus\u001b[0m\u001b[1;33m(\u001b[0m\u001b[1;33m)\u001b[0m\u001b[1;33m\u001b[0m\u001b[1;33m\u001b[0m\u001b[0m\n\u001b[0m",
      "\u001b[1;31mTypeError\u001b[0m: Can't instantiate abstract class bus with abstract methods getnoOfwheels"
     ]
    }
   ],
   "source": [
    "from abc import *\n",
    "class vehicle(ABC):\n",
    "    @abstractmethod\n",
    "    def getnoOfwheels(self):\n",
    "        pass\n",
    "    \n",
    "class bus(vehicle):\n",
    "    pass\n",
    "b=bus()"
   ]
  },
  {
   "cell_type": "markdown",
   "metadata": {},
   "source": [
    "## here in above example bus is child class of vehicle and vehicle is child class of ABC so bus class is also abstract class\n",
    "## and we didnt provided proper implimentation so we cannot create object of bus class also"
   ]
  },
  {
   "cell_type": "code",
   "execution_count": 8,
   "metadata": {},
   "outputs": [
    {
     "data": {
      "text/plain": [
       "7"
      ]
     },
     "execution_count": 8,
     "metadata": {},
     "output_type": "execute_result"
    }
   ],
   "source": [
    "from abc import *\n",
    "class vehicle(ABC):\n",
    "    @abstractmethod\n",
    "    def getnoOfwheels(self):\n",
    "        pass\n",
    "    \n",
    "class bus(vehicle):\n",
    "    def getnoOfwheels(self):\n",
    "        return 7\n",
    "b=bus()\n",
    "b.getnoOfwheels()"
   ]
  },
  {
   "cell_type": "markdown",
   "metadata": {},
   "source": [
    "## here in above example now proper implimentation of getnoofwheels() from child class so now we can create object\n",
    "## and in below example if new class auto will come this can also work like this"
   ]
  },
  {
   "cell_type": "code",
   "execution_count": 13,
   "metadata": {},
   "outputs": [
    {
     "data": {
      "text/plain": [
       "7"
      ]
     },
     "execution_count": 13,
     "metadata": {},
     "output_type": "execute_result"
    }
   ],
   "source": [
    "from abc import *\n",
    "class vehicle(ABC):\n",
    "    @abstractmethod\n",
    "    def getnoOfwheels(self):\n",
    "        pass\n",
    "    \n",
    "class bus(vehicle):\n",
    "    def getnoOfwheels(self):\n",
    "        return 7\n",
    "    \n",
    "class auto(vehicle):\n",
    "    def getnoOfwheels(self):\n",
    "        return 3\n",
    "    \n",
    "a=bus()\n",
    "a.getnoOfwheels()"
   ]
  },
  {
   "cell_type": "markdown",
   "metadata": {},
   "source": [
    "# interface"
   ]
  },
  {
   "cell_type": "markdown",
   "metadata": {},
   "source": [
    "## if abstract class only contains abstract methods then it is known as interface it is just theortical concept"
   ]
  },
  {
   "cell_type": "code",
   "execution_count": 14,
   "metadata": {},
   "outputs": [
    {
     "ename": "TypeError",
     "evalue": "Can't instantiate abstract class implimentcls with abstract methods m3",
     "output_type": "error",
     "traceback": [
      "\u001b[1;31m---------------------------------------------------------------------------\u001b[0m",
      "\u001b[1;31mTypeError\u001b[0m                                 Traceback (most recent call last)",
      "\u001b[1;32m<ipython-input-14-c8c05dc45de0>\u001b[0m in \u001b[0;36m<module>\u001b[1;34m\u001b[0m\n\u001b[0;32m     17\u001b[0m         \u001b[0mprint\u001b[0m\u001b[1;33m(\u001b[0m\u001b[1;34m'implimentation of m2'\u001b[0m\u001b[1;33m)\u001b[0m\u001b[1;33m\u001b[0m\u001b[1;33m\u001b[0m\u001b[0m\n\u001b[0;32m     18\u001b[0m \u001b[1;33m\u001b[0m\u001b[0m\n\u001b[1;32m---> 19\u001b[1;33m \u001b[0mi\u001b[0m \u001b[1;33m=\u001b[0m \u001b[0mimplimentcls\u001b[0m\u001b[1;33m(\u001b[0m\u001b[1;33m)\u001b[0m\u001b[1;33m\u001b[0m\u001b[1;33m\u001b[0m\u001b[0m\n\u001b[0m",
      "\u001b[1;31mTypeError\u001b[0m: Can't instantiate abstract class implimentcls with abstract methods m3"
     ]
    }
   ],
   "source": [
    "class colgautomation(ABC):\n",
    "    @abstractmethod\n",
    "    def m1():\n",
    "        pass\n",
    "    @abstractmethod\n",
    "    def m2():\n",
    "        pass\n",
    "    @abstractmethod\n",
    "    def m3():\n",
    "        pass\n",
    "    \n",
    "class implimentcls(colgautomation):\n",
    "    def m1():\n",
    "        print('implimentation of m1')\n",
    "        \n",
    "    def m2():\n",
    "        print('implimentation of m2')\n",
    "        \n",
    "i = implimentcls()  "
   ]
  },
  {
   "cell_type": "markdown",
   "metadata": {},
   "source": [
    "## the above code through error coz we didnt provided proper implimentation of all three abstract method so we cant create object"
   ]
  },
  {
   "cell_type": "code",
   "execution_count": 15,
   "metadata": {},
   "outputs": [
    {
     "name": "stdout",
     "output_type": "stream",
     "text": [
      "implimentation of m1\n",
      "implimentation of m2\n",
      "implimentation of m3\n"
     ]
    }
   ],
   "source": [
    "class colgautomation(ABC):\n",
    "    '''this is interfac class only declaration'''\n",
    "    @abstractmethod\n",
    "    def m1(self):\n",
    "        pass\n",
    "    @abstractmethod\n",
    "    def m2(self):\n",
    "        pass\n",
    "    @abstractmethod\n",
    "    def m3(self):\n",
    "        pass\n",
    "    \n",
    "class implimentcls(colgautomation):\n",
    "    '''this is abstract class partial implimentation not completely like m1,m2 complete but m3 not complete'''\n",
    "    def m1(self):\n",
    "        print('implimentation of m1')\n",
    "        \n",
    "    def m2(self):\n",
    "        print('implimentation of m2')\n",
    "        \n",
    "class concretecls(implimentcls):\n",
    "    '''concrete class coz all complete method'''\n",
    "    def m3(self):\n",
    "        print('implimentation of m3')\n",
    "        \n",
    "c=concretecls()\n",
    "c.m1()\n",
    "c.m2()\n",
    "c.m3()"
   ]
  },
  {
   "cell_type": "code",
   "execution_count": 17,
   "metadata": {},
   "outputs": [
    {
     "name": "stdout",
     "output_type": "stream",
     "text": [
      "enter db name:mysql\n",
      "mysql connection with db\n",
      "mysql disconnection with db\n"
     ]
    }
   ],
   "source": [
    "from abc import *\n",
    "class dbinterface(ABC):\n",
    "    @abstractmethod\n",
    "    def connect(self):\n",
    "        pass\n",
    "    @abstractmethod\n",
    "    def disconnect(self):\n",
    "        pass\n",
    "    \n",
    "class oracle(dbinterface):\n",
    "    def connect(self):\n",
    "        print('oracle connection with db')\n",
    "        \n",
    "    def disconnect(self):\n",
    "        print('oracle disconnection with db')\n",
    "        \n",
    "class mysql(dbinterface):\n",
    "\n",
    "    def connect(self):\n",
    "        print('mysql connection with db')\n",
    "        \n",
    "    \n",
    "    def disconnect(self):\n",
    "        print('mysql disconnection with db')   \n",
    "    \n",
    "dbname=input('enter db name:')\n",
    "classname = globals()[dbname]\n",
    "x=classname()\n",
    "x.connect()\n",
    "x.disconnect()"
   ]
  },
  {
   "cell_type": "markdown",
   "metadata": {},
   "source": [
    "# now concept of public private and protected"
   ]
  },
  {
   "cell_type": "markdown",
   "metadata": {},
   "source": [
    "## by default all object is public"
   ]
  },
  {
   "cell_type": "code",
   "execution_count": 20,
   "metadata": {},
   "outputs": [],
   "source": [
    "# private\n",
    "__x=10\n"
   ]
  },
  {
   "cell_type": "code",
   "execution_count": 18,
   "metadata": {},
   "outputs": [
    {
     "name": "stdout",
     "output_type": "stream",
     "text": [
      "10\n"
     ]
    }
   ],
   "source": [
    "class test:\n",
    "    def __init__(self):\n",
    "        self.x=10\n",
    "t=test()\n",
    "\n",
    "print(t.x)"
   ]
  },
  {
   "cell_type": "markdown",
   "metadata": {},
   "source": [
    "# now i want to make it private"
   ]
  },
  {
   "cell_type": "code",
   "execution_count": 19,
   "metadata": {},
   "outputs": [
    {
     "ename": "AttributeError",
     "evalue": "'test' object has no attribute 'x'",
     "output_type": "error",
     "traceback": [
      "\u001b[1;31m---------------------------------------------------------------------------\u001b[0m",
      "\u001b[1;31mAttributeError\u001b[0m                            Traceback (most recent call last)",
      "\u001b[1;32m<ipython-input-19-a6c8635a656b>\u001b[0m in \u001b[0;36m<module>\u001b[1;34m\u001b[0m\n\u001b[0;32m      3\u001b[0m         \u001b[0mself\u001b[0m\u001b[1;33m.\u001b[0m\u001b[0m__x\u001b[0m\u001b[1;33m=\u001b[0m\u001b[1;36m10\u001b[0m\u001b[1;33m\u001b[0m\u001b[1;33m\u001b[0m\u001b[0m\n\u001b[0;32m      4\u001b[0m \u001b[0mt\u001b[0m\u001b[1;33m=\u001b[0m\u001b[0mtest\u001b[0m\u001b[1;33m(\u001b[0m\u001b[1;33m)\u001b[0m\u001b[1;33m\u001b[0m\u001b[1;33m\u001b[0m\u001b[0m\n\u001b[1;32m----> 5\u001b[1;33m \u001b[0mt\u001b[0m\u001b[1;33m.\u001b[0m\u001b[0mx\u001b[0m\u001b[1;33m\u001b[0m\u001b[1;33m\u001b[0m\u001b[0m\n\u001b[0m",
      "\u001b[1;31mAttributeError\u001b[0m: 'test' object has no attribute 'x'"
     ]
    }
   ],
   "source": [
    "class test:\n",
    "    def __init__(self):\n",
    "        self.__x=10\n",
    "t=test()\n",
    "t.x"
   ]
  },
  {
   "cell_type": "code",
   "execution_count": 20,
   "metadata": {},
   "outputs": [
    {
     "name": "stdout",
     "output_type": "stream",
     "text": [
      "10\n"
     ]
    }
   ],
   "source": [
    "# if you have to call inside the class\n",
    "class test:\n",
    "    def __init__(self):\n",
    "        self.__x=10\n",
    "        \n",
    "    def m1(self):\n",
    "        print(self.__x)\n",
    "t=test()\n",
    "t.m1()"
   ]
  },
  {
   "cell_type": "markdown",
   "metadata": {},
   "source": [
    "\n",
    "# there is no concept of single underscore or protected so its only covention"
   ]
  },
  {
   "cell_type": "markdown",
   "metadata": {},
   "source": [
    "# how to acess private object in python(__x )"
   ]
  },
  {
   "cell_type": "markdown",
   "metadata": {},
   "source": [
    "# using objectrefrenc._classname__objectname"
   ]
  },
  {
   "cell_type": "code",
   "execution_count": 21,
   "metadata": {},
   "outputs": [
    {
     "name": "stdout",
     "output_type": "stream",
     "text": [
      "10\n"
     ]
    }
   ],
   "source": [
    "class test:\n",
    "    def __init__(self):\n",
    "        self.__x=10\n",
    "        \n",
    "t=test()\n",
    "print(t._test__x)"
   ]
  },
  {
   "cell_type": "code",
   "execution_count": 22,
   "metadata": {},
   "outputs": [
    {
     "name": "stdout",
     "output_type": "stream",
     "text": [
      "<__main__.student object at 0x0000022FF4259AC8>\n",
      "<__main__.student object at 0x0000022FF4259B00>\n"
     ]
    }
   ],
   "source": [
    "class student():\n",
    "    def __init__(self,rollno,name):\n",
    "        self.rollno=rollno\n",
    "        self.name=name\n",
    "        \n",
    "s1=student(101,'ved')\n",
    "s2=student(102,'dimple')\n",
    "print(s1)\n",
    "print(s2)"
   ]
  },
  {
   "cell_type": "code",
   "execution_count": 23,
   "metadata": {},
   "outputs": [
    {
     "name": "stdout",
     "output_type": "stream",
     "text": [
      "the student name is:ved and roll no is:101\n",
      "the student name is:dimple and roll no is:102\n"
     ]
    }
   ],
   "source": [
    "class student():\n",
    "    def __init__(self,rollno,name):\n",
    "        self.rollno=rollno\n",
    "        self.name=name\n",
    "        \n",
    "    def __str__(self):\n",
    "        return 'the student name is:{} and roll no is:{}'.format(self.name,self.rollno)\n",
    "        \n",
    "s1=student(101,'ved')\n",
    "s2=student(102,'dimple')\n",
    "print(s1)\n",
    "print(s2)"
   ]
  },
  {
   "cell_type": "code",
   "execution_count": null,
   "metadata": {},
   "outputs": [],
   "source": []
  },
  {
   "cell_type": "code",
   "execution_count": 25,
   "metadata": {
    "scrolled": true
   },
   "outputs": [
    {
     "name": "stdout",
     "output_type": "stream",
     "text": [
      "5\n",
      "     *\n",
      "    ***\n",
      "   *****\n",
      "  *******\n",
      " *********\n"
     ]
    }
   ],
   "source": [
    "n=int(input())\n",
    "for i in range(1,n+1):\n",
    "        print(' '*(n-i),'*'*(2*i-1))"
   ]
  },
  {
   "cell_type": "code",
   "execution_count": 38,
   "metadata": {},
   "outputs": [
    {
     "name": "stdout",
     "output_type": "stream",
     "text": [
      "None\n"
     ]
    }
   ],
   "source": [
    "l=[20,30,40,50]\n",
    "k=l.remove(30)\n",
    "print(k)"
   ]
  },
  {
   "cell_type": "code",
   "execution_count": 7,
   "metadata": {},
   "outputs": [
    {
     "name": "stdout",
     "output_type": "stream",
     "text": [
      "[10, 20, 30, [888, 999], 60]\n",
      "[10, 20, 30, [888, 999], 60]\n",
      "2548615006920\n",
      "2548615006856\n"
     ]
    }
   ],
   "source": [
    "import copy\n",
    "l1=[10,20,30,[40,50],60]  \n",
    "l2=copy.copy(l1)        \n",
    "l2[3][0]=888\n",
    "l2[3][1]=999\n",
    "print(l1)\n",
    "print(l2)\n",
    "print(id(l1))\n",
    "print(id(l2))"
   ]
  },
  {
   "cell_type": "code",
   "execution_count": 6,
   "metadata": {},
   "outputs": [],
   "source": [
    "import copy\n",
    "l1=[10,20,30,[40,50],60]\n",
    "l2=copy.deepcopy(l1) \n",
    "l1[0]=101\n",
    "l1[1]=102\n",
    "l1[3][0]=888\n",
    "l1[3][1]=999\n",
    "print(l1) #[10]\n",
    "print(l2) #\n",
    "#print(id(l1[0]))\n",
    "#print(id(l2[0]))"
   ]
  },
  {
   "cell_type": "code",
   "execution_count": 108,
   "metadata": {},
   "outputs": [
    {
     "name": "stdout",
     "output_type": "stream",
     "text": [
      "8\n"
     ]
    }
   ],
   "source": [
    "class animal:\n",
    "    def  __init__(self,a,l):\n",
    "        self.arms = a\n",
    "        self.legs = l\n",
    "        \n",
    "    def limbs(self):\n",
    "        return self.arms + self.legs\n",
    "    \n",
    "spider = animal(4,4)\n",
    "\n",
    "spidlimbs = spider.limbs()\n",
    "print(spidlimbs)"
   ]
  },
  {
   "cell_type": "code",
   "execution_count": 11,
   "metadata": {},
   "outputs": [
    {
     "data": {
      "text/plain": [
       "3"
      ]
     },
     "execution_count": 11,
     "metadata": {},
     "output_type": "execute_result"
    }
   ],
   "source": [
    "from collections import deque\n",
    "d=deque()\n",
    "d.append(1)\n",
    "d.append(2)\n",
    "d.append(3)\n",
    "d.pop()"
   ]
  },
  {
   "cell_type": "code",
   "execution_count": 17,
   "metadata": {
    "scrolled": true
   },
   "outputs": [
    {
     "name": "stdout",
     "output_type": "stream",
     "text": [
      "3\n",
      "append 3\n",
      "append 3\n",
      "append 3\n",
      "3 3 3\n"
     ]
    }
   ],
   "source": [
    "from collections import deque\n",
    "d = deque()\n",
    "for _ in range(int(input())):\n",
    "    inp = input().split()\n",
    "    getattr(d, inp[0])(*[inp[1]] if len(inp) > 1 else [])\n",
    "print(*[item for item in d])"
   ]
  },
  {
   "cell_type": "code",
   "execution_count": 25,
   "metadata": {},
   "outputs": [
    {
     "name": "stdout",
     "output_type": "stream",
     "text": [
      "5 4\n"
     ]
    },
    {
     "data": {
      "text/plain": [
       "[5, 4]"
      ]
     },
     "execution_count": 25,
     "metadata": {},
     "output_type": "execute_result"
    }
   ],
   "source": [
    "n=[int(x) for x in input().split()]\n",
    "n"
   ]
  },
  {
   "cell_type": "code",
   "execution_count": 26,
   "metadata": {
    "scrolled": true
   },
   "outputs": [
    {
     "name": "stdout",
     "output_type": "stream",
     "text": [
      "enter how many test cases needed:2\n",
      "enter number you length of list:6\n",
      "4 3 2 1 3 4\n",
      "Yes\n",
      "enter number you length of list:3\n",
      "1 3 2\n",
      "No\n"
     ]
    }
   ],
   "source": [
    "test_case = int(input('enter how many test cases needed:'))\n",
    "for i in range(test_case):\n",
    "    n=int(input('enter number you length of list:'))\n",
    "    l=[int(x) for x in input().split()]\n",
    "    if len(l)%2==0:\n",
    "        print('Yes')\n",
    "    else:\n",
    "        print('No')"
   ]
  },
  {
   "cell_type": "code",
   "execution_count": 27,
   "metadata": {},
   "outputs": [
    {
     "data": {
      "text/html": [
       "<div>\n",
       "<style scoped>\n",
       "    .dataframe tbody tr th:only-of-type {\n",
       "        vertical-align: middle;\n",
       "    }\n",
       "\n",
       "    .dataframe tbody tr th {\n",
       "        vertical-align: top;\n",
       "    }\n",
       "\n",
       "    .dataframe thead th {\n",
       "        text-align: right;\n",
       "    }\n",
       "</style>\n",
       "<table border=\"1\" class=\"dataframe\">\n",
       "  <thead>\n",
       "    <tr style=\"text-align: right;\">\n",
       "      <th></th>\n",
       "      <th>col1</th>\n",
       "    </tr>\n",
       "  </thead>\n",
       "  <tbody>\n",
       "    <tr>\n",
       "      <th>0</th>\n",
       "      <td>1</td>\n",
       "    </tr>\n",
       "    <tr>\n",
       "      <th>1</th>\n",
       "      <td>4</td>\n",
       "    </tr>\n",
       "    <tr>\n",
       "      <th>2</th>\n",
       "      <td>3</td>\n",
       "    </tr>\n",
       "    <tr>\n",
       "      <th>3</th>\n",
       "      <td>4</td>\n",
       "    </tr>\n",
       "    <tr>\n",
       "      <th>4</th>\n",
       "      <td>5</td>\n",
       "    </tr>\n",
       "    <tr>\n",
       "      <th>5</th>\n",
       "      <td>6</td>\n",
       "    </tr>\n",
       "  </tbody>\n",
       "</table>\n",
       "</div>"
      ],
      "text/plain": [
       "   col1\n",
       "0     1\n",
       "1     4\n",
       "2     3\n",
       "3     4\n",
       "4     5\n",
       "5     6"
      ]
     },
     "execution_count": 27,
     "metadata": {},
     "output_type": "execute_result"
    }
   ],
   "source": [
    "import pandas as pd\n",
    "df = pd.DataFrame({'col1':[1,4,3,4,5,6]})\n",
    "df"
   ]
  },
  {
   "cell_type": "code",
   "execution_count": 30,
   "metadata": {},
   "outputs": [
    {
     "data": {
      "text/plain": [
       "4.0"
      ]
     },
     "execution_count": 30,
     "metadata": {},
     "output_type": "execute_result"
    }
   ],
   "source": [
    "df['col1'].median()"
   ]
  }
 ],
 "metadata": {
  "kernelspec": {
   "display_name": "Python 3",
   "language": "python",
   "name": "python3"
  },
  "language_info": {
   "codemirror_mode": {
    "name": "ipython",
    "version": 3
   },
   "file_extension": ".py",
   "mimetype": "text/x-python",
   "name": "python",
   "nbconvert_exporter": "python",
   "pygments_lexer": "ipython3",
   "version": "3.7.3"
  }
 },
 "nbformat": 4,
 "nbformat_minor": 2
}
